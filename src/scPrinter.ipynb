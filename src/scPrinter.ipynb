{
 "cells": [
  {
   "cell_type": "markdown",
   "id": "6da4648b",
   "metadata": {},
   "source": [
    "# scPrinter setup for Bos taurus\n",
    "* Our goal? Being to characterize differential TF profiles between peak and late lactation"
   ]
  },
  {
   "cell_type": "code",
   "execution_count": 1,
   "id": "b7296723",
   "metadata": {},
   "outputs": [],
   "source": [
    "import torch\n",
    "torch.cuda.is_available()\n",
    "import cupy\n",
    "a = cupy.zeros((1000, 1000)) # check gpu usage"
   ]
  },
  {
   "cell_type": "code",
   "execution_count": 2,
   "id": "82c62de8",
   "metadata": {},
   "outputs": [
    {
     "data": {
      "text/plain": [
       "array([[0., 0., 0., ..., 0., 0., 0.],\n",
       "       [0., 0., 0., ..., 0., 0., 0.],\n",
       "       [0., 0., 0., ..., 0., 0., 0.],\n",
       "       ...,\n",
       "       [0., 0., 0., ..., 0., 0., 0.],\n",
       "       [0., 0., 0., ..., 0., 0., 0.],\n",
       "       [0., 0., 0., ..., 0., 0., 0.]])"
      ]
     },
     "execution_count": 2,
     "metadata": {},
     "output_type": "execute_result"
    }
   ],
   "source": [
    "a"
   ]
  },
  {
   "cell_type": "markdown",
   "id": "c0272265",
   "metadata": {},
   "source": [
    "# Comparing TF Profiles between Peak and Late Lactation"
   ]
  },
  {
   "cell_type": "code",
   "execution_count": 3,
   "id": "6753ebf9",
   "metadata": {},
   "outputs": [
    {
     "name": "stderr",
     "output_type": "stream",
     "text": [
      "/net/talisker/home/benos/mae117/.conda/envs/the-milk-man/lib/python3.11/site-packages/tqdm/auto.py:21: TqdmWarning: IProgress not found. Please update jupyter and ipywidgets. See https://ipywidgets.readthedocs.io/en/stable/user_install.html\n",
      "  from .autonotebook import tqdm as notebook_tqdm\n",
      "/net/talisker/home/benos/mae117/.conda/envs/the-milk-man/lib/python3.11/site-packages/norns/cfg.py:9: UserWarning: pkg_resources is deprecated as an API. See https://setuptools.pypa.io/en/latest/pkg_resources.html. The pkg_resources package is slated for removal as early as 2025-11-30. Refrain from using this package or pin to Setuptools<81.\n",
      "  import pkg_resources\n",
      "Downloading file 'TFBS_model_py.pt' from 'https://zenodo.org/records/14194242/files/TFBS_model_py.pt' to '/net/talisker/home/benos/mae117/.cache/scprinter'.\n",
      "Downloading file 'TFBS_model_model1_py.pt' from 'https://zenodo.org/records/14194242/files/TFBS_model_cluster_I_py.pt' to '/net/talisker/home/benos/mae117/.cache/scprinter'.\n",
      "Downloading file 'nucleosome_model_py.pt' from 'https://zenodo.org/records/14194242/files/nucleosome_model_py.pt' to '/net/talisker/home/benos/mae117/.cache/scprinter'.\n",
      "Downloading file 'dispersion_model_py.h5' from 'https://zenodo.org/records/14194242/files/dispersion_model_py.h5' to '/net/talisker/home/benos/mae117/.cache/scprinter'.\n",
      "Downloading file 'dispersion_model_py_v2.h5' from 'https://zenodo.org/records/15170402/files/dispersion_model_py_v2.h5' to '/net/talisker/home/benos/mae117/.cache/scprinter'.\n",
      "Downloading file 'TFBS_0_conv_v2.pt' from 'https://zenodo.org/records/15085406/files/TFBS_0_conv_v2.pt' to '/net/talisker/home/benos/mae117/.cache/scprinter'.\n",
      "Downloading file 'TFBS_1_conv_v2.pt' from 'https://zenodo.org/records/15085406/files/TFBS_1_conv_v2.pt' to '/net/talisker/home/benos/mae117/.cache/scprinter'.\n",
      "Downloading file 'Tn5_NN_model_py_v2.pt' from 'https://zenodo.org/records/15103252/files/Tn5_NN_model_py_v2.pt' to '/net/talisker/home/benos/mae117/.cache/scprinter'.\n",
      "Downloading file 'CisBP_Mouse_FigR' from 'https://github.com/ruochiz/FigRmotifs/raw/main/mouse_pfms_v4.txt' to '/net/talisker/home/benos/mae117/.cache/scprinter'.\n",
      "Downloading file 'CisBP_Human_FigR' from 'https://github.com/ruochiz/FigRmotifs/raw/main/human_pfms_v4.txt' to '/net/talisker/home/benos/mae117/.cache/scprinter'.\n",
      "Downloading file 'CisBP_Mouse_FigR_Bagging' from 'https://github.com/ruochiz/FigRmotifs/raw/main/FigR_motifs_bagging_mouse.txt' to '/net/talisker/home/benos/mae117/.cache/scprinter'.\n",
      "Downloading file 'CisBP_Human_FigR_Bagging' from 'https://github.com/ruochiz/FigRmotifs/raw/main/FigR_motifs_bagging_human.txt' to '/net/talisker/home/benos/mae117/.cache/scprinter'.\n",
      "Downloading file 'CisBP_Mouse_FigR_meme' from 'https://github.com/ruochiz/FigRmotifs/raw/main/mouse_pfms_v4_meme.txt' to '/net/talisker/home/benos/mae117/.cache/scprinter'.\n",
      "Downloading file 'CisBP_Human_FigR_meme' from 'https://github.com/ruochiz/FigRmotifs/raw/main/human_pfms_v4_meme.txt' to '/net/talisker/home/benos/mae117/.cache/scprinter'.\n",
      "Downloading file 'TSSRanges_hg19_FigR' from 'https://github.com/ruochiz/FigRmotifs/raw/main/hg19TSSRanges.txt' to '/net/talisker/home/benos/mae117/.cache/scprinter'.\n",
      "Downloading file 'TSSRanges_hg38_FigR' from 'https://github.com/ruochiz/FigRmotifs/raw/main/hg38TSSRanges.txt' to '/net/talisker/home/benos/mae117/.cache/scprinter'.\n",
      "Downloading file 'TSSRanges_mm10_FigR' from 'https://github.com/ruochiz/FigRmotifs/raw/main/mm10TSSRanges.txt' to '/net/talisker/home/benos/mae117/.cache/scprinter'.\n",
      "/net/talisker/home/benos/mae117/.conda/envs/the-milk-man/lib/python3.11/site-packages/pydantic/_internal/_generate_schema.py:2249: UnsupportedFieldAttributeWarning: The 'repr' attribute with value False was provided to the `Field()` function, which has no effect in the context it was used. 'repr' is field-specific metadata, and can only be attached to a model field using `Annotated` metadata or by assignment. This may have happened because an `Annotated` type alias using the `type` statement was used, or if the `Field()` function was attached to a single member of a union type.\n",
      "  warnings.warn(\n",
      "/net/talisker/home/benos/mae117/.conda/envs/the-milk-man/lib/python3.11/site-packages/pydantic/_internal/_generate_schema.py:2249: UnsupportedFieldAttributeWarning: The 'frozen' attribute with value True was provided to the `Field()` function, which has no effect in the context it was used. 'frozen' is field-specific metadata, and can only be attached to a model field using `Annotated` metadata or by assignment. This may have happened because an `Annotated` type alias using the `type` statement was used, or if the `Field()` function was attached to a single member of a union type.\n",
      "  warnings.warn(\n"
     ]
    }
   ],
   "source": [
    "%load_ext autoreload\n",
    "%autoreload 2\n",
    "import scprinter as scp\n",
    "import pandas as pd\n",
    "import seaborn as sns\n",
    "import matplotlib.pyplot as plt\n",
    "import time\n",
    "import pandas as pd\n",
    "import numpy as np\n",
    "import os\n",
    "import pickle\n",
    "import torch\n",
    "import matplotlib as mpl\n",
    "mpl.rcParams['pdf.fonttype'] = 42\n",
    "from scanpy.plotting.palettes import zeileis_28\n",
    "from tqdm.contrib.concurrent import *\n",
    "from tqdm.auto import *\n",
    "import anndata\n",
    "import scanpy as sc\n",
    "import json\n",
    "import csv\n",
    "import re\n",
    "from sklearn.preprocessing import OneHotEncoder"
   ]
  },
  {
   "cell_type": "code",
   "execution_count": null,
   "id": "b5b0f3cd",
   "metadata": {},
   "outputs": [],
   "source": [
    "work_dir = \"/net/talisker/home/benos/mae117/Documents/careers/opalia/the-milk-man\"\n",
    "ref_genome=\"/net/talisker/home/benos/mae117/.local/share/genomes/ARS-UCD2.0/ARS-UCD2.0.fa\""
   ]
  },
  {
   "cell_type": "code",
   "execution_count": null,
   "id": "289052a4",
   "metadata": {},
   "outputs": [],
   "source": [
    "# 1) Build a custom genome object once (FASTA -> twoBit -> bias bigWig per docs)\n",
    "# See: \"Tutorial using custom genome\"\n",
    "bovine = scp.genome.create_custom_genome(\n",
    "    fasta_path=\"Bos_taurus.ARS-UCD1.2.dna.primary_assembly.fa\",\n",
    "    genome_name=\"bos_taurus_ARSUCD12\",\n",
    "    work_dir=work_dir,\n",
    "    overwrite=False\n",
    ")\n",
    "# This step creates and caches the bias model bigWig for Tn5 and chrom sizes.\n",
    "\n",
    "# 2) List your fragment files & barcodes (barcodes are just sample names here)\n",
    "frag_files = [\n",
    "    \"BovineCtrl_01.fragments.tsv.gz\",\n",
    "    \"BovineCtrl_02.fragments.tsv.gz\",\n",
    "    # ...\n",
    "]\n",
    "barcodes = [None]*len(frag_files) # scPrinter will take the 4th col as barcode=sample\n",
    "\n",
    "printer = scp.pp.import_fragments(\n",
    "    path_to_frags=frag_files,\n",
    "    barcodes=barcodes,\n",
    "    savename=f\"{work_dir}/bovine_controls_scprinter.h5ad\",\n",
    "    genome=bovine,         # <-- custom genome object\n",
    "    min_num_fragments=1_000, \n",
    "    min_tsse=7,\n",
    "    sorted_by_barcode=False,\n",
    "    low_memory=False,\n",
    ")"
   ]
  }
 ],
 "metadata": {
  "kernelspec": {
   "display_name": "the-milk-man",
   "language": "python",
   "name": "python3"
  },
  "language_info": {
   "codemirror_mode": {
    "name": "ipython",
    "version": 3
   },
   "file_extension": ".py",
   "mimetype": "text/x-python",
   "name": "python",
   "nbconvert_exporter": "python",
   "pygments_lexer": "ipython3",
   "version": "3.11.14"
  }
 },
 "nbformat": 4,
 "nbformat_minor": 5
}
