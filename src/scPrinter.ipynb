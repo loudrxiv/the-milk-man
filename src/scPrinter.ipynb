{
 "cells": [
  {
   "cell_type": "markdown",
   "id": "6da4648b",
   "metadata": {},
   "source": [
    "# scPrinter setup for Bos taurus\n",
    "* Our goal? Being to characterize differential TF profiles between peak and late lactation"
   ]
  },
  {
   "cell_type": "code",
   "execution_count": 1,
   "id": "b7296723",
   "metadata": {},
   "outputs": [],
   "source": [
    "import torch\n",
    "torch.cuda.is_available()\n",
    "import cupy\n",
    "a = cupy.zeros((1000, 1000)) # check gpu usage"
   ]
  },
  {
   "cell_type": "code",
   "execution_count": 2,
   "id": "82c62de8",
   "metadata": {},
   "outputs": [
    {
     "data": {
      "text/plain": [
       "array([[0., 0., 0., ..., 0., 0., 0.],\n",
       "       [0., 0., 0., ..., 0., 0., 0.],\n",
       "       [0., 0., 0., ..., 0., 0., 0.],\n",
       "       ...,\n",
       "       [0., 0., 0., ..., 0., 0., 0.],\n",
       "       [0., 0., 0., ..., 0., 0., 0.],\n",
       "       [0., 0., 0., ..., 0., 0., 0.]])"
      ]
     },
     "execution_count": 2,
     "metadata": {},
     "output_type": "execute_result"
    }
   ],
   "source": [
    "a"
   ]
  },
  {
   "cell_type": "markdown",
   "id": "c0272265",
   "metadata": {},
   "source": [
    "# Comparing TF Profiles between Peak and Late Lactation"
   ]
  },
  {
   "cell_type": "code",
   "execution_count": 3,
   "id": "6753ebf9",
   "metadata": {},
   "outputs": [
    {
     "name": "stderr",
     "output_type": "stream",
     "text": [
      "/net/talisker/home/benos/mae117/.conda/envs/tmm2/lib/python3.11/site-packages/pydantic/_internal/_generate_schema.py:2249: UnsupportedFieldAttributeWarning: The 'repr' attribute with value False was provided to the `Field()` function, which has no effect in the context it was used. 'repr' is field-specific metadata, and can only be attached to a model field using `Annotated` metadata or by assignment. This may have happened because an `Annotated` type alias using the `type` statement was used, or if the `Field()` function was attached to a single member of a union type.\n",
      "  warnings.warn(\n",
      "/net/talisker/home/benos/mae117/.conda/envs/tmm2/lib/python3.11/site-packages/pydantic/_internal/_generate_schema.py:2249: UnsupportedFieldAttributeWarning: The 'frozen' attribute with value True was provided to the `Field()` function, which has no effect in the context it was used. 'frozen' is field-specific metadata, and can only be attached to a model field using `Annotated` metadata or by assignment. This may have happened because an `Annotated` type alias using the `type` statement was used, or if the `Field()` function was attached to a single member of a union type.\n",
      "  warnings.warn(\n"
     ]
    }
   ],
   "source": [
    "%load_ext autoreload\n",
    "%autoreload 2\n",
    "import scprinter as scp\n",
    "import pandas as pd\n",
    "import seaborn as sns\n",
    "import matplotlib.pyplot as plt\n",
    "import time\n",
    "import pandas as pd\n",
    "import numpy as np\n",
    "import os\n",
    "import pickle\n",
    "import torch\n",
    "import matplotlib as mpl\n",
    "mpl.rcParams['pdf.fonttype'] = 42\n",
    "from scanpy.plotting.palettes import zeileis_28\n",
    "from tqdm.contrib.concurrent import *\n",
    "from tqdm.auto import *\n",
    "import anndata\n",
    "import scanpy as sc\n",
    "import json\n",
    "import csv\n",
    "import re\n",
    "from sklearn.preprocessing import OneHotEncoder"
   ]
  },
  {
   "cell_type": "code",
   "execution_count": 4,
   "id": "b5b0f3cd",
   "metadata": {},
   "outputs": [],
   "source": [
    "work_dir=\"/net/talisker/home/benos/mae117/Documents/careers/opalia/the-milk-man\"\n",
    "genome_dir=\"/net/talisker/home/benos/mae117/.local/share/genomes/ARS-UCD2.0\"\n",
    "frags_dir_controls=\"/net/talisker/home/benos/mae117/Documents/careers/opalia/the-milk-man/data/controls/fragments\"\n",
    "frags_dir_peaks=\"/net/talisker/home/benos/mae117/Documents/careers/opalia/the-milk-man/data/experiments/peak/fragments\"\n",
    "frags_dir_late=\"/net/talisker/home/benos/mae117/Documents/careers/opalia/the-milk-man/data/experiments/late/fragments\""
   ]
  },
  {
   "cell_type": "code",
   "execution_count": 5,
   "id": "6a751ac2",
   "metadata": {},
   "outputs": [],
   "source": [
    "controls_files=os.listdir(frags_dir_controls)\n",
    "controls_files_frags=[i for i in controls_files if i.endswith(\".fragments.tsv.gz\")]\n",
    "controls_files_frags=sorted([os.path.join(frags_dir_controls, i) for i in controls_files_frags])\n",
    "controls_files_samples=[\"_\".join(re.split(\"[/_\\\\.]\", i)[11:13]) for i in controls_files_frags]"
   ]
  },
  {
   "cell_type": "code",
   "execution_count": 6,
   "id": "e8f346f8",
   "metadata": {},
   "outputs": [],
   "source": [
    "peak_files=os.listdir(frags_dir_peaks)\n",
    "peak_files_frags=[i for i in peak_files if i.endswith(\".fragments.tsv.gz\")]\n",
    "peak_files_frags=sorted([os.path.join(frags_dir_peaks, i) for i in peak_files_frags])\n",
    "peak_files_samples=[\"_\".join(re.split(\"[/_\\\\.]\", i)[11:13]) for i in peak_files_frags]"
   ]
  },
  {
   "cell_type": "code",
   "execution_count": 7,
   "id": "ab1454b4",
   "metadata": {},
   "outputs": [],
   "source": [
    "late_files=os.listdir(frags_dir_late)\n",
    "late_files_frags=[i for i in late_files if i.endswith(\".fragments.tsv.gz\")]\n",
    "late_files_frags=sorted([os.path.join(frags_dir_late, i) for i in late_files_frags])\n",
    "late_files_samples=[\"_\".join(re.split(\"[/_\\\\.]\", i)[11:13]) for i in late_files_frags]"
   ]
  },
  {
   "cell_type": "markdown",
   "id": "d063c363",
   "metadata": {},
   "source": [
    "## Create a custom ARS-UCD2.0 for scPrinter to work on!"
   ]
  },
  {
   "cell_type": "markdown",
   "id": "315618ae",
   "metadata": {},
   "source": [
    "### We need to build a [custom genome object](https://ruochiz.com/scprinter_doc/tutorials/custom_genome_tutorial.html) for cows RE scPrinter\n"
   ]
  },
  {
   "cell_type": "markdown",
   "id": "94d95a5f",
   "metadata": {},
   "source": [
    "* Read in the chromosome sizes of the cow genome as a dictionary"
   ]
  },
  {
   "cell_type": "code",
   "execution_count": 8,
   "id": "8fb23f5c",
   "metadata": {},
   "outputs": [],
   "source": [
    "#os.mkdir(os.path.join(work_dir, \"data/custom_genomes/ARS-UCD2.0\"))\n",
    "\n",
    "# sizes have to be read in like a dictionary\n",
    "chrom_sizes = {}\n",
    "#with open(os.path.join(genome_dir, \"bosTau9.chrom.sizes\")) as f:\n",
    "with open(os.path.join(genome_dir, \"ARS-UCD2.0.fa.sizes\")) as f:\n",
    "    for line in f:\n",
    "       (key, val) = line.split()\n",
    "       chrom_sizes[key] = int(val)"
   ]
  },
  {
   "cell_type": "markdown",
   "id": "0e6d9b95",
   "metadata": {},
   "source": [
    "* Create a bias file for ARDS-UCD2"
   ]
  },
  {
   "cell_type": "code",
   "execution_count": 9,
   "id": "96fcbaf5",
   "metadata": {},
   "outputs": [
    {
     "data": {
      "text/plain": [
       "'/net/talisker/home/benos/mae117/.cache/scprinter/Tn5_NN_model_py_v2.pt'"
      ]
     },
     "execution_count": 9,
     "metadata": {},
     "output_type": "execute_result"
    }
   ],
   "source": [
    "pretrain_Tn5_bias_model = scp.datasets.pretrained_Tn5_bias_model\n",
    "pretrain_Tn5_bias_model"
   ]
  },
  {
   "cell_type": "code",
   "execution_count": 10,
   "id": "73f15cd7",
   "metadata": {},
   "outputs": [
    {
     "name": "stderr",
     "output_type": "stream",
     "text": [
      "Predicting Tn5 bias for NKLS02001987.1: 100%|██████████| 1958/1958 [03:56<00:00,  8.30it/s] \n"
     ]
    }
   ],
   "source": [
    "scp.genome.predict_genome_tn5_bias(fa_file=str(os.path.join(genome_dir, \"ARS-UCD2.0.fa\")),\n",
    "                            save_name=f\"{work_dir}/data/bias.h5\",\n",
    "                            tn5_model=pretrain_Tn5_bias_model,\n",
    "                            context_radius=50,\n",
    "                            device=\"cuda\",\n",
    "                            batch_size=5000)"
   ]
  },
  {
   "cell_type": "markdown",
   "id": "7be01585",
   "metadata": {},
   "source": [
    "* Create the custom genome"
   ]
  },
  {
   "cell_type": "code",
   "execution_count": 11,
   "id": "807005d2",
   "metadata": {},
   "outputs": [
    {
     "data": {
      "text/plain": [
       "[{'test': ['1', '12', '24', '3', '6'],\n",
       "  'valid': ['20', '8'],\n",
       "  'train': ['X',\n",
       "   'Y',\n",
       "   '10',\n",
       "   '11',\n",
       "   '13',\n",
       "   '14',\n",
       "   '15',\n",
       "   '16',\n",
       "   '17',\n",
       "   '18',\n",
       "   '19',\n",
       "   '2',\n",
       "   '21',\n",
       "   '22',\n",
       "   '23',\n",
       "   '25',\n",
       "   '26',\n",
       "   '27',\n",
       "   '28',\n",
       "   '29',\n",
       "   '4',\n",
       "   '5',\n",
       "   '7',\n",
       "   '9']},\n",
       " {'test': ['16', '2', '21', '27', '9'],\n",
       "  'valid': ['12', '17'],\n",
       "  'train': ['X',\n",
       "   'Y',\n",
       "   '1',\n",
       "   '10',\n",
       "   '11',\n",
       "   '13',\n",
       "   '14',\n",
       "   '15',\n",
       "   '18',\n",
       "   '19',\n",
       "   '20',\n",
       "   '22',\n",
       "   '23',\n",
       "   '24',\n",
       "   '25',\n",
       "   '26',\n",
       "   '28',\n",
       "   '29',\n",
       "   '3',\n",
       "   '4',\n",
       "   '5',\n",
       "   '6',\n",
       "   '7',\n",
       "   '8']},\n",
       " {'test': ['Y', '11', '15', '19', '29', '4'],\n",
       "  'valid': ['22', '7'],\n",
       "  'train': ['X',\n",
       "   '1',\n",
       "   '10',\n",
       "   '12',\n",
       "   '13',\n",
       "   '14',\n",
       "   '16',\n",
       "   '17',\n",
       "   '18',\n",
       "   '2',\n",
       "   '20',\n",
       "   '21',\n",
       "   '23',\n",
       "   '24',\n",
       "   '25',\n",
       "   '26',\n",
       "   '27',\n",
       "   '28',\n",
       "   '3',\n",
       "   '5',\n",
       "   '6',\n",
       "   '8',\n",
       "   '9']},\n",
       " {'test': ['10', '14', '18', '20', '26', '5'],\n",
       "  'valid': ['21', '6'],\n",
       "  'train': ['X',\n",
       "   'Y',\n",
       "   '1',\n",
       "   '11',\n",
       "   '12',\n",
       "   '13',\n",
       "   '15',\n",
       "   '16',\n",
       "   '17',\n",
       "   '19',\n",
       "   '2',\n",
       "   '22',\n",
       "   '23',\n",
       "   '24',\n",
       "   '25',\n",
       "   '27',\n",
       "   '28',\n",
       "   '29',\n",
       "   '3',\n",
       "   '4',\n",
       "   '7',\n",
       "   '8',\n",
       "   '9']},\n",
       " {'test': ['X', '13', '17', '23', '25', '7'],\n",
       "  'valid': ['10', '18'],\n",
       "  'train': ['Y',\n",
       "   '1',\n",
       "   '11',\n",
       "   '12',\n",
       "   '14',\n",
       "   '15',\n",
       "   '16',\n",
       "   '19',\n",
       "   '2',\n",
       "   '20',\n",
       "   '21',\n",
       "   '22',\n",
       "   '24',\n",
       "   '26',\n",
       "   '27',\n",
       "   '28',\n",
       "   '29',\n",
       "   '3',\n",
       "   '4',\n",
       "   '5',\n",
       "   '6',\n",
       "   '8',\n",
       "   '9']}]"
      ]
     },
     "execution_count": 11,
     "metadata": {},
     "output_type": "execute_result"
    }
   ],
   "source": [
    "def make_btau_splits(with_chr_prefix=True, include_mt=False):\n",
    "    \"\"\"\n",
    "    Create five 'reasonable' ARS-UCD2.0 chromosome splits (train/valid/test) in the\n",
    "    same structure as the human example. Partitions are disjoint and exhaustive.\n",
    "\n",
    "    Args:\n",
    "        with_chr_prefix (bool): if True, chromosomes are named 'chr1'...'chr29','chrX','chrY' (and 'chrMT' if included)\n",
    "                                if False, they are '1'...'29','X','Y' ('MT' if included)\n",
    "        include_mt (bool): include mitochondrial chromosome in the partitions.\n",
    "\n",
    "    Returns:\n",
    "        List[Dict[str, List[str]]]: five dicts with keys 'train', 'valid', 'test'\n",
    "    \"\"\"\n",
    "\n",
    "    # ARS-UCD2.0 autosomes 1..29 plus sex chromosomes\n",
    "    autosomes = [str(i) for i in range(1, 30)]\n",
    "    sex = [\"X\", \"Y\"]\n",
    "    mt = [\"MT\"] if include_mt else []\n",
    "    all_chroms = autosomes + sex + mt\n",
    "\n",
    "    # Helper to add/remove 'chr' prefix\n",
    "    def lab(c):\n",
    "        #return f\"chr{c}\" if with_chr_prefix else c\n",
    "        return f\"{c}\" if with_chr_prefix else c\n",
    "\n",
    "    # ----\n",
    "    # Pre-chosen, balanced-ish folds (mix large+medium+small autosomes, spread X/Y across folds)\n",
    "    # These are *chromosome labels without prefix*; we’ll map to prefixed labels at the end.\n",
    "    # Each fold lists its 'test' and 'valid' sets; 'train' is derived as set difference of all_chroms.\n",
    "\n",
    "    folds_spec = [\n",
    "        # Fold 1\n",
    "        {\n",
    "            \"test\":  [\"1\", \"3\", \"6\", \"12\", \"24\"],\n",
    "            \"valid\": [\"8\", \"20\"],\n",
    "        },\n",
    "        # Fold 2\n",
    "        {\n",
    "            \"test\":  [\"2\", \"9\", \"16\", \"21\", \"27\"],\n",
    "            \"valid\": [\"12\", \"17\"],\n",
    "        },\n",
    "        # Fold 3\n",
    "        {\n",
    "            \"test\":  [\"4\", \"11\", \"15\", \"19\", \"29\", \"Y\"],\n",
    "            \"valid\": [\"7\", \"22\"],\n",
    "        },\n",
    "        # Fold 4\n",
    "        {\n",
    "            \"test\":  [\"5\", \"10\", \"14\", \"18\", \"20\", \"26\"],\n",
    "            \"valid\": [\"6\", \"21\"],\n",
    "        },\n",
    "        # Fold 5\n",
    "        {\n",
    "            \"test\":  [\"7\", \"13\", \"17\", \"23\", \"25\", \"X\"],\n",
    "            \"valid\": [\"10\", \"18\"],\n",
    "        },\n",
    "    ]\n",
    "\n",
    "    # Optionally distribute MT (if included), put it into validation of Fold 1\n",
    "    if include_mt:\n",
    "        folds_spec[0][\"valid\"] = folds_spec[0][\"valid\"] + [\"MT\"]\n",
    "\n",
    "    # Build full folds, enforcing disjoint/exhaustive partition per fold\n",
    "    folds = []\n",
    "    all_set = set(all_chroms)\n",
    "    for spec in folds_spec:\n",
    "        test = set(spec[\"test\"])\n",
    "        valid = set(spec[\"valid\"])\n",
    "        # Sanity: ensure declared sets exist\n",
    "        assert test.isdisjoint(valid), \"test and valid overlap in spec\"\n",
    "        assert test.issubset(all_set) and valid.issubset(all_set), \"spec includes unknown chromosomes\"\n",
    "        train = sorted(all_set - test - valid, key=lambda x: (x not in sex+mt, x))  # stable-ish sort\n",
    "\n",
    "        fold = {\n",
    "            \"test\":  sorted([lab(c) for c in test],  key=lambda x: (x not in {lab(\"X\"), lab(\"Y\"), lab(\"MT\")}, x)),\n",
    "            \"valid\": sorted([lab(c) for c in valid], key=lambda x: (x not in {lab(\"X\"), lab(\"Y\"), lab(\"MT\")}, x)),\n",
    "            \"train\": sorted([lab(c) for c in train], key=lambda x: (x not in {lab(\"X\"), lab(\"Y\"), lab(\"MT\")}, x)),\n",
    "        }\n",
    "        folds.append(fold)\n",
    "\n",
    "    return folds\n",
    "\n",
    "btau_splits = make_btau_splits(with_chr_prefix=True, include_mt=False)\n",
    "btau_splits"
   ]
  },
  {
   "cell_type": "code",
   "execution_count": 12,
   "id": "289052a4",
   "metadata": {},
   "outputs": [],
   "source": [
    "momoo = scp.genome.Genome(\n",
    "    name=str(os.path.join(work_dir, \"data/custom_genomes/ARS-UCD2.0\")),\n",
    "    chrom_sizes=chrom_sizes,\n",
    "    gff_file=f\"{genome_dir}/ARS-UCD2.0.annotation.gtf\",\n",
    "    fa_file=f\"{genome_dir}/ARS-UCD2.0.fa\",\n",
    "    bias_file=f\"{work_dir}/data/bias.h5\",\n",
    "    blacklist_file=None,\n",
    "    bg=None,\n",
    "    splits=btau_splits\n",
    ")"
   ]
  },
  {
   "cell_type": "code",
   "execution_count": 15,
   "id": "309e55b3",
   "metadata": {},
   "outputs": [],
   "source": [
    "import pickle\n",
    "pickle.dump(momoo, open(f\"{work_dir}/data/custom_genomes/ARS-UCD2.0\", \"wb\"))"
   ]
  },
  {
   "cell_type": "markdown",
   "id": "31ec2f30",
   "metadata": {},
   "source": [
    "## Create scPrinter"
   ]
  },
  {
   "cell_type": "markdown",
   "id": "7d265be2",
   "metadata": {},
   "source": [
    "### Create the printer object"
   ]
  },
  {
   "cell_type": "code",
   "execution_count": 8,
   "id": "018e7ebc",
   "metadata": {},
   "outputs": [
    {
     "data": {
      "text/plain": [
       "<scprinter.genome.Genome at 0x7f12b402a750>"
      ]
     },
     "execution_count": 8,
     "metadata": {},
     "output_type": "execute_result"
    }
   ],
   "source": [
    "objects = []\n",
    "with (open(f\"{work_dir}/data/custom_genomes/ARS-UCD2.0\", \"rb\")) as openfile:\n",
    "    while True:\n",
    "        try:\n",
    "            objects.append(pickle.load(openfile))\n",
    "        except EOFError:\n",
    "            break\n",
    "\n",
    "momoo=objects[0]\n",
    "momoo"
   ]
  },
  {
   "cell_type": "code",
   "execution_count": 9,
   "id": "b06aa019",
   "metadata": {},
   "outputs": [],
   "source": [
    "all_frags=controls_files_frags + peak_files_frags + late_files_frags\n",
    "exp_frags=peak_files_frags + late_files_frags\n",
    "sample_names = (\n",
    "    #['control'] * len(controls_files_frags) +\n",
    "    ['peak'] * len(peak_files_frags) +\n",
    "    ['late'] * len(late_files_frags)\n",
    ")"
   ]
  },
  {
   "cell_type": "code",
   "execution_count": 10,
   "id": "3f331e6b",
   "metadata": {},
   "outputs": [
    {
     "name": "stdout",
     "output_type": "stream",
     "text": [
      "Multiple fragments files detected, it is suggested to provide sample names to avoid barcode collision\n"
     ]
    },
    {
     "data": {
      "application/vnd.jupyter.widget-view+json": {
       "model_id": "6e8bf5c160fa43a7a8227f98e43cc2e9",
       "version_major": 2,
       "version_minor": 0
      },
      "text/plain": [
       "Importing fragments:   0%|          | 0/8 [00:00<?, ?it/s]"
      ]
     },
     "metadata": {},
     "output_type": "display_data"
    },
    {
     "data": {
      "application/vnd.jupyter.widget-view+json": {
       "model_id": "5576cc3ab47c4b52a0cd4b4283b75890",
       "version_major": 2,
       "version_minor": 0
      },
      "text/plain": [
       "  0%|          | 0/8 [00:00<?, ?it/s]"
      ]
     },
     "metadata": {},
     "output_type": "display_data"
    },
    {
     "name": "stderr",
     "output_type": "stream",
     "text": [
      "/net/talisker/home/benos/mae117/.conda/envs/tmm2/lib/python3.11/site-packages/pydantic/_internal/_generate_schema.py:2249: UnsupportedFieldAttributeWarning: The 'repr' attribute with value False was provided to the `Field()` function, which has no effect in the context it was used. 'repr' is field-specific metadata, and can only be attached to a model field using `Annotated` metadata or by assignment. This may have happened because an `Annotated` type alias using the `type` statement was used, or if the `Field()` function was attached to a single member of a union type.\n",
      "  warnings.warn(\n",
      "/net/talisker/home/benos/mae117/.conda/envs/tmm2/lib/python3.11/site-packages/pydantic/_internal/_generate_schema.py:2249: UnsupportedFieldAttributeWarning: The 'frozen' attribute with value True was provided to the `Field()` function, which has no effect in the context it was used. 'frozen' is field-specific metadata, and can only be attached to a model field using `Annotated` metadata or by assignment. This may have happened because an `Annotated` type alias using the `type` statement was used, or if the `Field()` function was attached to a single member of a union type.\n",
      "  warnings.warn(\n",
      "/net/talisker/home/benos/mae117/.conda/envs/tmm2/lib/python3.11/site-packages/pydantic/_internal/_generate_schema.py:2249: UnsupportedFieldAttributeWarning: The 'repr' attribute with value False was provided to the `Field()` function, which has no effect in the context it was used. 'repr' is field-specific metadata, and can only be attached to a model field using `Annotated` metadata or by assignment. This may have happened because an `Annotated` type alias using the `type` statement was used, or if the `Field()` function was attached to a single member of a union type.\n",
      "  warnings.warn(\n",
      "/net/talisker/home/benos/mae117/.conda/envs/tmm2/lib/python3.11/site-packages/pydantic/_internal/_generate_schema.py:2249: UnsupportedFieldAttributeWarning: The 'frozen' attribute with value True was provided to the `Field()` function, which has no effect in the context it was used. 'frozen' is field-specific metadata, and can only be attached to a model field using `Annotated` metadata or by assignment. This may have happened because an `Annotated` type alias using the `type` statement was used, or if the `Field()` function was attached to a single member of a union type.\n",
      "  warnings.warn(\n",
      "/net/talisker/home/benos/mae117/.conda/envs/tmm2/lib/python3.11/site-packages/pydantic/_internal/_generate_schema.py:2249: UnsupportedFieldAttributeWarning: The 'repr' attribute with value False was provided to the `Field()` function, which has no effect in the context it was used. 'repr' is field-specific metadata, and can only be attached to a model field using `Annotated` metadata or by assignment. This may have happened because an `Annotated` type alias using the `type` statement was used, or if the `Field()` function was attached to a single member of a union type.\n",
      "  warnings.warn(\n",
      "/net/talisker/home/benos/mae117/.conda/envs/tmm2/lib/python3.11/site-packages/pydantic/_internal/_generate_schema.py:2249: UnsupportedFieldAttributeWarning: The 'frozen' attribute with value True was provided to the `Field()` function, which has no effect in the context it was used. 'frozen' is field-specific metadata, and can only be attached to a model field using `Annotated` metadata or by assignment. This may have happened because an `Annotated` type alias using the `type` statement was used, or if the `Field()` function was attached to a single member of a union type.\n",
      "  warnings.warn(\n",
      "/net/talisker/home/benos/mae117/.conda/envs/tmm2/lib/python3.11/site-packages/pydantic/_internal/_generate_schema.py:2249: UnsupportedFieldAttributeWarning: The 'repr' attribute with value False was provided to the `Field()` function, which has no effect in the context it was used. 'repr' is field-specific metadata, and can only be attached to a model field using `Annotated` metadata or by assignment. This may have happened because an `Annotated` type alias using the `type` statement was used, or if the `Field()` function was attached to a single member of a union type.\n",
      "  warnings.warn(\n",
      "/net/talisker/home/benos/mae117/.conda/envs/tmm2/lib/python3.11/site-packages/pydantic/_internal/_generate_schema.py:2249: UnsupportedFieldAttributeWarning: The 'frozen' attribute with value True was provided to the `Field()` function, which has no effect in the context it was used. 'frozen' is field-specific metadata, and can only be attached to a model field using `Annotated` metadata or by assignment. This may have happened because an `Annotated` type alias using the `type` statement was used, or if the `Field()` function was attached to a single member of a union type.\n",
      "  warnings.warn(\n",
      "/net/talisker/home/benos/mae117/.conda/envs/tmm2/lib/python3.11/site-packages/pydantic/_internal/_generate_schema.py:2249: UnsupportedFieldAttributeWarning: The 'repr' attribute with value False was provided to the `Field()` function, which has no effect in the context it was used. 'repr' is field-specific metadata, and can only be attached to a model field using `Annotated` metadata or by assignment. This may have happened because an `Annotated` type alias using the `type` statement was used, or if the `Field()` function was attached to a single member of a union type.\n",
      "  warnings.warn(\n",
      "/net/talisker/home/benos/mae117/.conda/envs/tmm2/lib/python3.11/site-packages/pydantic/_internal/_generate_schema.py:2249: UnsupportedFieldAttributeWarning: The 'frozen' attribute with value True was provided to the `Field()` function, which has no effect in the context it was used. 'frozen' is field-specific metadata, and can only be attached to a model field using `Annotated` metadata or by assignment. This may have happened because an `Annotated` type alias using the `type` statement was used, or if the `Field()` function was attached to a single member of a union type.\n",
      "  warnings.warn(\n",
      "/net/talisker/home/benos/mae117/.conda/envs/tmm2/lib/python3.11/site-packages/pydantic/_internal/_generate_schema.py:2249: UnsupportedFieldAttributeWarning: The 'repr' attribute with value False was provided to the `Field()` function, which has no effect in the context it was used. 'repr' is field-specific metadata, and can only be attached to a model field using `Annotated` metadata or by assignment. This may have happened because an `Annotated` type alias using the `type` statement was used, or if the `Field()` function was attached to a single member of a union type.\n",
      "  warnings.warn(\n",
      "/net/talisker/home/benos/mae117/.conda/envs/tmm2/lib/python3.11/site-packages/pydantic/_internal/_generate_schema.py:2249: UnsupportedFieldAttributeWarning: The 'frozen' attribute with value True was provided to the `Field()` function, which has no effect in the context it was used. 'frozen' is field-specific metadata, and can only be attached to a model field using `Annotated` metadata or by assignment. This may have happened because an `Annotated` type alias using the `type` statement was used, or if the `Field()` function was attached to a single member of a union type.\n",
      "  warnings.warn(\n",
      "/net/talisker/home/benos/mae117/.conda/envs/tmm2/lib/python3.11/site-packages/pydantic/_internal/_generate_schema.py:2249: UnsupportedFieldAttributeWarning: The 'repr' attribute with value False was provided to the `Field()` function, which has no effect in the context it was used. 'repr' is field-specific metadata, and can only be attached to a model field using `Annotated` metadata or by assignment. This may have happened because an `Annotated` type alias using the `type` statement was used, or if the `Field()` function was attached to a single member of a union type.\n",
      "  warnings.warn(\n",
      "/net/talisker/home/benos/mae117/.conda/envs/tmm2/lib/python3.11/site-packages/pydantic/_internal/_generate_schema.py:2249: UnsupportedFieldAttributeWarning: The 'frozen' attribute with value True was provided to the `Field()` function, which has no effect in the context it was used. 'frozen' is field-specific metadata, and can only be attached to a model field using `Annotated` metadata or by assignment. This may have happened because an `Annotated` type alias using the `type` statement was used, or if the `Field()` function was attached to a single member of a union type.\n",
      "  warnings.warn(\n",
      "/net/talisker/home/benos/mae117/.conda/envs/tmm2/lib/python3.11/site-packages/pydantic/_internal/_generate_schema.py:2249: UnsupportedFieldAttributeWarning: The 'repr' attribute with value False was provided to the `Field()` function, which has no effect in the context it was used. 'repr' is field-specific metadata, and can only be attached to a model field using `Annotated` metadata or by assignment. This may have happened because an `Annotated` type alias using the `type` statement was used, or if the `Field()` function was attached to a single member of a union type.\n",
      "  warnings.warn(\n",
      "/net/talisker/home/benos/mae117/.conda/envs/tmm2/lib/python3.11/site-packages/pydantic/_internal/_generate_schema.py:2249: UnsupportedFieldAttributeWarning: The 'frozen' attribute with value True was provided to the `Field()` function, which has no effect in the context it was used. 'frozen' is field-specific metadata, and can only be attached to a model field using `Annotated` metadata or by assignment. This may have happened because an `Annotated` type alias using the `type` statement was used, or if the `Field()` function was attached to a single member of a union type.\n",
      "  warnings.warn(\n"
     ]
    },
    {
     "name": "stdout",
     "output_type": "stream",
     "text": [
      "start transferring insertions\n"
     ]
    }
   ],
   "source": [
    "printer_exp = scp.pp.import_fragments(\n",
    "    path_to_frags=exp_frags,\n",
    "    barcodes=[None] * len(exp_frags),\n",
    "    savename=os.path.join(work_dir, 'profiles/ars-ucd_exp_scprinter.h5ad'),\n",
    "    genome=momoo,\n",
    "    min_num_fragments=1000, min_tsse=7,\n",
    "    sorted_by_barcode=False,\n",
    "    low_memory=False,\n",
    "\n",
    "    # Added\n",
    "    auto_detect_shift=False,    # do NOT run the shape-sensitive auto-detect routine\n",
    "    plus_shift=4,               # canonical Tn5 offset for ATAC (forward strand)\n",
    "    minus_shift=-5,             # canonical Tn5 offset for ATAC (reverse strand),\n",
    ")"
   ]
  },
  {
   "cell_type": "code",
   "execution_count": 11,
   "id": "612a46cd",
   "metadata": {},
   "outputs": [
    {
     "name": "stdout",
     "output_type": "stream",
     "text": [
      "Multiple fragments files detected, it is suggested to provide sample names to avoid barcode collision\n"
     ]
    },
    {
     "data": {
      "application/vnd.jupyter.widget-view+json": {
       "model_id": "6f5c4a47972046c7b425c25bceb4a40f",
       "version_major": 2,
       "version_minor": 0
      },
      "text/plain": [
       "Importing fragments:   0%|          | 0/8 [00:00<?, ?it/s]"
      ]
     },
     "metadata": {},
     "output_type": "display_data"
    },
    {
     "data": {
      "application/vnd.jupyter.widget-view+json": {
       "model_id": "348a66c1e8224df996bf094f8cbd5a5c",
       "version_major": 2,
       "version_minor": 0
      },
      "text/plain": [
       "  0%|          | 0/8 [00:00<?, ?it/s]"
      ]
     },
     "metadata": {},
     "output_type": "display_data"
    },
    {
     "name": "stderr",
     "output_type": "stream",
     "text": [
      "/net/talisker/home/benos/mae117/.conda/envs/tmm2/lib/python3.11/site-packages/pydantic/_internal/_generate_schema.py:2249: UnsupportedFieldAttributeWarning: The 'repr' attribute with value False was provided to the `Field()` function, which has no effect in the context it was used. 'repr' is field-specific metadata, and can only be attached to a model field using `Annotated` metadata or by assignment. This may have happened because an `Annotated` type alias using the `type` statement was used, or if the `Field()` function was attached to a single member of a union type.\n",
      "  warnings.warn(\n",
      "/net/talisker/home/benos/mae117/.conda/envs/tmm2/lib/python3.11/site-packages/pydantic/_internal/_generate_schema.py:2249: UnsupportedFieldAttributeWarning: The 'frozen' attribute with value True was provided to the `Field()` function, which has no effect in the context it was used. 'frozen' is field-specific metadata, and can only be attached to a model field using `Annotated` metadata or by assignment. This may have happened because an `Annotated` type alias using the `type` statement was used, or if the `Field()` function was attached to a single member of a union type.\n",
      "  warnings.warn(\n",
      "/net/talisker/home/benos/mae117/.conda/envs/tmm2/lib/python3.11/site-packages/pydantic/_internal/_generate_schema.py:2249: UnsupportedFieldAttributeWarning: The 'repr' attribute with value False was provided to the `Field()` function, which has no effect in the context it was used. 'repr' is field-specific metadata, and can only be attached to a model field using `Annotated` metadata or by assignment. This may have happened because an `Annotated` type alias using the `type` statement was used, or if the `Field()` function was attached to a single member of a union type.\n",
      "  warnings.warn(\n",
      "/net/talisker/home/benos/mae117/.conda/envs/tmm2/lib/python3.11/site-packages/pydantic/_internal/_generate_schema.py:2249: UnsupportedFieldAttributeWarning: The 'frozen' attribute with value True was provided to the `Field()` function, which has no effect in the context it was used. 'frozen' is field-specific metadata, and can only be attached to a model field using `Annotated` metadata or by assignment. This may have happened because an `Annotated` type alias using the `type` statement was used, or if the `Field()` function was attached to a single member of a union type.\n",
      "  warnings.warn(\n",
      "/net/talisker/home/benos/mae117/.conda/envs/tmm2/lib/python3.11/site-packages/pydantic/_internal/_generate_schema.py:2249: UnsupportedFieldAttributeWarning: The 'repr' attribute with value False was provided to the `Field()` function, which has no effect in the context it was used. 'repr' is field-specific metadata, and can only be attached to a model field using `Annotated` metadata or by assignment. This may have happened because an `Annotated` type alias using the `type` statement was used, or if the `Field()` function was attached to a single member of a union type.\n",
      "  warnings.warn(\n",
      "/net/talisker/home/benos/mae117/.conda/envs/tmm2/lib/python3.11/site-packages/pydantic/_internal/_generate_schema.py:2249: UnsupportedFieldAttributeWarning: The 'frozen' attribute with value True was provided to the `Field()` function, which has no effect in the context it was used. 'frozen' is field-specific metadata, and can only be attached to a model field using `Annotated` metadata or by assignment. This may have happened because an `Annotated` type alias using the `type` statement was used, or if the `Field()` function was attached to a single member of a union type.\n",
      "  warnings.warn(\n",
      "/net/talisker/home/benos/mae117/.conda/envs/tmm2/lib/python3.11/site-packages/pydantic/_internal/_generate_schema.py:2249: UnsupportedFieldAttributeWarning: The 'repr' attribute with value False was provided to the `Field()` function, which has no effect in the context it was used. 'repr' is field-specific metadata, and can only be attached to a model field using `Annotated` metadata or by assignment. This may have happened because an `Annotated` type alias using the `type` statement was used, or if the `Field()` function was attached to a single member of a union type.\n",
      "  warnings.warn(\n",
      "/net/talisker/home/benos/mae117/.conda/envs/tmm2/lib/python3.11/site-packages/pydantic/_internal/_generate_schema.py:2249: UnsupportedFieldAttributeWarning: The 'frozen' attribute with value True was provided to the `Field()` function, which has no effect in the context it was used. 'frozen' is field-specific metadata, and can only be attached to a model field using `Annotated` metadata or by assignment. This may have happened because an `Annotated` type alias using the `type` statement was used, or if the `Field()` function was attached to a single member of a union type.\n",
      "  warnings.warn(\n",
      "/net/talisker/home/benos/mae117/.conda/envs/tmm2/lib/python3.11/site-packages/pydantic/_internal/_generate_schema.py:2249: UnsupportedFieldAttributeWarning: The 'repr' attribute with value False was provided to the `Field()` function, which has no effect in the context it was used. 'repr' is field-specific metadata, and can only be attached to a model field using `Annotated` metadata or by assignment. This may have happened because an `Annotated` type alias using the `type` statement was used, or if the `Field()` function was attached to a single member of a union type.\n",
      "  warnings.warn(\n",
      "/net/talisker/home/benos/mae117/.conda/envs/tmm2/lib/python3.11/site-packages/pydantic/_internal/_generate_schema.py:2249: UnsupportedFieldAttributeWarning: The 'frozen' attribute with value True was provided to the `Field()` function, which has no effect in the context it was used. 'frozen' is field-specific metadata, and can only be attached to a model field using `Annotated` metadata or by assignment. This may have happened because an `Annotated` type alias using the `type` statement was used, or if the `Field()` function was attached to a single member of a union type.\n",
      "  warnings.warn(\n",
      "/net/talisker/home/benos/mae117/.conda/envs/tmm2/lib/python3.11/site-packages/pydantic/_internal/_generate_schema.py:2249: UnsupportedFieldAttributeWarning: The 'repr' attribute with value False was provided to the `Field()` function, which has no effect in the context it was used. 'repr' is field-specific metadata, and can only be attached to a model field using `Annotated` metadata or by assignment. This may have happened because an `Annotated` type alias using the `type` statement was used, or if the `Field()` function was attached to a single member of a union type.\n",
      "  warnings.warn(\n",
      "/net/talisker/home/benos/mae117/.conda/envs/tmm2/lib/python3.11/site-packages/pydantic/_internal/_generate_schema.py:2249: UnsupportedFieldAttributeWarning: The 'frozen' attribute with value True was provided to the `Field()` function, which has no effect in the context it was used. 'frozen' is field-specific metadata, and can only be attached to a model field using `Annotated` metadata or by assignment. This may have happened because an `Annotated` type alias using the `type` statement was used, or if the `Field()` function was attached to a single member of a union type.\n",
      "  warnings.warn(\n",
      "/net/talisker/home/benos/mae117/.conda/envs/tmm2/lib/python3.11/site-packages/pydantic/_internal/_generate_schema.py:2249: UnsupportedFieldAttributeWarning: The 'repr' attribute with value False was provided to the `Field()` function, which has no effect in the context it was used. 'repr' is field-specific metadata, and can only be attached to a model field using `Annotated` metadata or by assignment. This may have happened because an `Annotated` type alias using the `type` statement was used, or if the `Field()` function was attached to a single member of a union type.\n",
      "  warnings.warn(\n",
      "/net/talisker/home/benos/mae117/.conda/envs/tmm2/lib/python3.11/site-packages/pydantic/_internal/_generate_schema.py:2249: UnsupportedFieldAttributeWarning: The 'frozen' attribute with value True was provided to the `Field()` function, which has no effect in the context it was used. 'frozen' is field-specific metadata, and can only be attached to a model field using `Annotated` metadata or by assignment. This may have happened because an `Annotated` type alias using the `type` statement was used, or if the `Field()` function was attached to a single member of a union type.\n",
      "  warnings.warn(\n",
      "/net/talisker/home/benos/mae117/.conda/envs/tmm2/lib/python3.11/site-packages/pydantic/_internal/_generate_schema.py:2249: UnsupportedFieldAttributeWarning: The 'repr' attribute with value False was provided to the `Field()` function, which has no effect in the context it was used. 'repr' is field-specific metadata, and can only be attached to a model field using `Annotated` metadata or by assignment. This may have happened because an `Annotated` type alias using the `type` statement was used, or if the `Field()` function was attached to a single member of a union type.\n",
      "  warnings.warn(\n",
      "/net/talisker/home/benos/mae117/.conda/envs/tmm2/lib/python3.11/site-packages/pydantic/_internal/_generate_schema.py:2249: UnsupportedFieldAttributeWarning: The 'frozen' attribute with value True was provided to the `Field()` function, which has no effect in the context it was used. 'frozen' is field-specific metadata, and can only be attached to a model field using `Annotated` metadata or by assignment. This may have happened because an `Annotated` type alias using the `type` statement was used, or if the `Field()` function was attached to a single member of a union type.\n",
      "  warnings.warn(\n"
     ]
    },
    {
     "name": "stdout",
     "output_type": "stream",
     "text": [
      "start transferring insertions\n"
     ]
    }
   ],
   "source": [
    "printer_ctrl = scp.pp.import_fragments(\n",
    "    path_to_frags=controls_files_frags,\n",
    "    barcodes=[None] * len(controls_files_frags),\n",
    "    savename=os.path.join(work_dir, 'profiles/ars-ucd_ctrl_scprinter.h5ad'),\n",
    "    genome=momoo,\n",
    "    min_num_fragments=1000, min_tsse=7,\n",
    "    sorted_by_barcode=False,\n",
    "    low_memory=False,\n",
    "    \n",
    "    # Added\n",
    "    auto_detect_shift=False,    # do NOT run the shape-sensitive auto-detect routine\n",
    "    plus_shift=4,               # canonical Tn5 offset for ATAC (forward strand\n",
    "    minus_shift=-5,             # canonical Tn5 offset for ATAC (reverse strand),\n",
    ")"
   ]
  },
  {
   "cell_type": "markdown",
   "id": "82699a3c",
   "metadata": {},
   "source": [
    "### Call peaks from printer object and save"
   ]
  },
  {
   "cell_type": "code",
   "execution_count": 21,
   "id": "4f0ccb87",
   "metadata": {},
   "outputs": [
    {
     "name": "stdout",
     "output_type": "stream",
     "text": [
      "running macs2 with macs2 callpeak --nomodel -t /net/talisker/home/benos/mae117/Documents/careers/opalia/the-milk-man/data/experiments/peak/fragments/SRR33155817.fragments.tsv.gz /net/talisker/home/benos/mae117/Documents/careers/opalia/the-milk-man/data/experiments/peak/fragments/SRR33155819.fragments.tsv.gz /net/talisker/home/benos/mae117/Documents/careers/opalia/the-milk-man/data/experiments/peak/fragments/SRR33155821.fragments.tsv.gz /net/talisker/home/benos/mae117/Documents/careers/opalia/the-milk-man/data/experiments/peak/fragments/SRR33155823.fragments.tsv.gz /net/talisker/home/benos/mae117/Documents/careers/opalia/the-milk-man/data/experiments/late/fragments/SRR33155816.fragments.tsv.gz /net/talisker/home/benos/mae117/Documents/careers/opalia/the-milk-man/data/experiments/late/fragments/SRR33155818.fragments.tsv.gz /net/talisker/home/benos/mae117/Documents/careers/opalia/the-milk-man/data/experiments/late/fragments/SRR33155820.fragments.tsv.gz /net/talisker/home/benos/mae117/Documents/careers/opalia/the-milk-man/data/experiments/late/fragments/SRR33155822.fragments.tsv.gz --outdir /net/talisker/home/benos/mae117/Documents/careers/opalia/the-milk-man/profiles/ars-ucd_exp_scprinter_supp/macs2 -n all -f BEDPE --nolambda --keep-dup all --call-summits --nomodel -B --SPMR --shift 75 --extsize 150 -p 0.01\n"
     ]
    },
    {
     "name": "stderr",
     "output_type": "stream",
     "text": [
      "Traceback (most recent call last):\n",
      "  File \"/net/talisker/home/benos/mae117/.conda/envs/tmm2/bin/macs2\", line 653, in <module>\n",
      "    main()\n",
      "  File \"/net/talisker/home/benos/mae117/.conda/envs/tmm2/bin/macs2\", line 49, in main\n",
      "    from MACS2.callpeak_cmd import run\n",
      "  File \"/net/talisker/home/benos/mae117/.conda/envs/tmm2/lib/python3.11/site-packages/MACS2/callpeak_cmd.py\", line 23, in <module>\n",
      "    from MACS2.OptValidator import opt_validate\n",
      "  File \"/net/talisker/home/benos/mae117/.conda/envs/tmm2/lib/python3.11/site-packages/MACS2/OptValidator.py\", line 20, in <module>\n",
      "    from MACS2.IO.Parser import BEDParser, ELANDResultParser, ELANDMultiParser, \\\n",
      "  File \"MACS2/IO/Parser.pyx\", line 25, in init MACS2.IO.Parser\n",
      "  File \"MACS2/IO/FixWidthTrack.pyx\", line 27, in init MACS2.IO.FixWidthTrack\n",
      "  File \"MACS2/Pileup.pyx\", line 19, in init MACS2.Pileup\n",
      "  File \"MACS2/IO/BedGraph.pyx\", line 26, in init MACS2.IO.BedGraph\n",
      "ImportError: /net/talisker/home/benos/mae117/.conda/envs/tmm2/lib/python3.11/site-packages/MACS2/IO/ScoreTrack.cpython-311-x86_64-linux-gnu.so: undefined symbol: __log_finite\n"
     ]
    },
    {
     "ename": "FileNotFoundError",
     "evalue": "[Errno 2] No such file or directory: '/net/talisker/home/benos/mae117/Documents/careers/opalia/the-milk-man/profiles/ars-ucd_exp_scprinter_supp/macs2/all_peaks.narrowPeak'",
     "output_type": "error",
     "traceback": [
      "\u001b[31m---------------------------------------------------------------------------\u001b[39m",
      "\u001b[31mFileNotFoundError\u001b[39m                         Traceback (most recent call last)",
      "\u001b[36mCell\u001b[39m\u001b[36m \u001b[39m\u001b[32mIn[21]\u001b[39m\u001b[32m, line 2\u001b[39m\n\u001b[32m      1\u001b[39m \u001b[38;5;66;03m# Call peaks, this set of peaks are recommended to train seq2PRINT model\u001b[39;00m\n\u001b[32m----> \u001b[39m\u001b[32m2\u001b[39m \u001b[43mscp\u001b[49m\u001b[43m.\u001b[49m\u001b[43mpp\u001b[49m\u001b[43m.\u001b[49m\u001b[43mcall_peaks\u001b[49m\u001b[43m(\u001b[49m\n\u001b[32m      3\u001b[39m \u001b[43m    \u001b[49m\u001b[43mprinter\u001b[49m\u001b[43m=\u001b[49m\u001b[43mprinter_exp\u001b[49m\u001b[43m,\u001b[49m\n\u001b[32m      4\u001b[39m \u001b[43m    \u001b[49m\u001b[43mfrag_file\u001b[49m\u001b[43m=\u001b[49m\u001b[43mexp_frags\u001b[49m\u001b[43m,\u001b[49m\n\u001b[32m      5\u001b[39m \u001b[43m    \u001b[49m\u001b[43mcell_grouping\u001b[49m\u001b[43m=\u001b[49m\u001b[43m[\u001b[49m\u001b[38;5;28;43;01mNone\u001b[39;49;00m\u001b[43m]\u001b[49m\u001b[43m,\u001b[49m\u001b[43m \u001b[49m\u001b[38;5;66;43;03m# here we call peaks on the cells that are included in the final analyses\u001b[39;49;00m\n\u001b[32m      6\u001b[39m \u001b[43m    \u001b[49m\u001b[43mgroup_names\u001b[49m\u001b[43m=\u001b[49m\u001b[43m[\u001b[49m\u001b[33;43m'\u001b[39;49m\u001b[33;43mall\u001b[39;49m\u001b[33;43m'\u001b[39;49m\u001b[43m]\u001b[49m\u001b[43m,\u001b[49m\n\u001b[32m      7\u001b[39m \u001b[43m    \u001b[49m\u001b[43mpreset\u001b[49m\u001b[43m=\u001b[49m\u001b[33;43m'\u001b[39;49m\u001b[33;43mseq2PRINT\u001b[39;49m\u001b[33;43m'\u001b[39;49m\u001b[43m,\u001b[49m\n\u001b[32m      8\u001b[39m \u001b[43m    \u001b[49m\u001b[43moverwrite\u001b[49m\u001b[43m=\u001b[49m\u001b[38;5;28;43;01mFalse\u001b[39;49;00m\n\u001b[32m      9\u001b[39m \u001b[43m)\u001b[49m\n\u001b[32m     11\u001b[39m \u001b[38;5;66;03m# Fetched the cleaned peaks, save, it will be used in the next step\u001b[39;00m\n\u001b[32m     12\u001b[39m cleaned_peaks = pd.DataFrame(printer_exp.uns[\u001b[33m\"\u001b[39m\u001b[33mpeak_calling\u001b[39m\u001b[33m\"\u001b[39m][\u001b[33m'\u001b[39m\u001b[33mall_cleaned\u001b[39m\u001b[33m'\u001b[39m][:])\n",
      "\u001b[36mFile \u001b[39m\u001b[32m~/.conda/envs/tmm2/lib/python3.11/site-packages/scprinter/preprocessing.py:842\u001b[39m, in \u001b[36mcall_peaks\u001b[39m\u001b[34m(printer, frag_file, cell_grouping, group_names, iterative_peak_merging, merge_across_groups, peak_width, clean_temp, preset, n_jobs, overwrite, sample_names, **kwargs)\u001b[39m\n\u001b[32m    840\u001b[39m \u001b[38;5;28;01mfor\u001b[39;00m name \u001b[38;5;129;01min\u001b[39;00m group_names:\n\u001b[32m    841\u001b[39m     peak = os.path.join(printer.file_path, \u001b[33m\"\u001b[39m\u001b[33mmacs2\u001b[39m\u001b[33m\"\u001b[39m, \u001b[33mf\u001b[39m\u001b[33m\"\u001b[39m\u001b[38;5;132;01m{\u001b[39;00mname\u001b[38;5;132;01m}\u001b[39;00m\u001b[33m_peaks.narrowPeak\u001b[39m\u001b[33m\"\u001b[39m)\n\u001b[32m--> \u001b[39m\u001b[32m842\u001b[39m     peak = resize_bed_df(\u001b[43mpd\u001b[49m\u001b[43m.\u001b[49m\u001b[43mread_csv\u001b[49m\u001b[43m(\u001b[49m\u001b[43mpeak\u001b[49m\u001b[43m,\u001b[49m\u001b[43m \u001b[49m\u001b[43msep\u001b[49m\u001b[43m=\u001b[49m\u001b[33;43m\"\u001b[39;49m\u001b[38;5;130;43;01m\\t\u001b[39;49;00m\u001b[33;43m\"\u001b[39;49m\u001b[43m,\u001b[49m\u001b[43m \u001b[49m\u001b[43mheader\u001b[49m\u001b[43m=\u001b[49m\u001b[38;5;28;43;01mNone\u001b[39;49;00m\u001b[43m,\u001b[49m\u001b[43m \u001b[49m\u001b[43mcomment\u001b[49m\u001b[43m=\u001b[49m\u001b[33;43m\"\u001b[39;49m\u001b[33;43m#\u001b[39;49m\u001b[33;43m\"\u001b[39;49m\u001b[43m)\u001b[49m, peak_width)\n\u001b[32m    843\u001b[39m     peak_calling[name] = peak\n\u001b[32m    844\u001b[39m summary = \u001b[38;5;28;01mNone\u001b[39;00m\n",
      "\u001b[36mFile \u001b[39m\u001b[32m~/.conda/envs/tmm2/lib/python3.11/site-packages/pandas/io/parsers/readers.py:1026\u001b[39m, in \u001b[36mread_csv\u001b[39m\u001b[34m(filepath_or_buffer, sep, delimiter, header, names, index_col, usecols, dtype, engine, converters, true_values, false_values, skipinitialspace, skiprows, skipfooter, nrows, na_values, keep_default_na, na_filter, verbose, skip_blank_lines, parse_dates, infer_datetime_format, keep_date_col, date_parser, date_format, dayfirst, cache_dates, iterator, chunksize, compression, thousands, decimal, lineterminator, quotechar, quoting, doublequote, escapechar, comment, encoding, encoding_errors, dialect, on_bad_lines, delim_whitespace, low_memory, memory_map, float_precision, storage_options, dtype_backend)\u001b[39m\n\u001b[32m   1013\u001b[39m kwds_defaults = _refine_defaults_read(\n\u001b[32m   1014\u001b[39m     dialect,\n\u001b[32m   1015\u001b[39m     delimiter,\n\u001b[32m   (...)\u001b[39m\u001b[32m   1022\u001b[39m     dtype_backend=dtype_backend,\n\u001b[32m   1023\u001b[39m )\n\u001b[32m   1024\u001b[39m kwds.update(kwds_defaults)\n\u001b[32m-> \u001b[39m\u001b[32m1026\u001b[39m \u001b[38;5;28;01mreturn\u001b[39;00m \u001b[43m_read\u001b[49m\u001b[43m(\u001b[49m\u001b[43mfilepath_or_buffer\u001b[49m\u001b[43m,\u001b[49m\u001b[43m \u001b[49m\u001b[43mkwds\u001b[49m\u001b[43m)\u001b[49m\n",
      "\u001b[36mFile \u001b[39m\u001b[32m~/.conda/envs/tmm2/lib/python3.11/site-packages/pandas/io/parsers/readers.py:620\u001b[39m, in \u001b[36m_read\u001b[39m\u001b[34m(filepath_or_buffer, kwds)\u001b[39m\n\u001b[32m    617\u001b[39m _validate_names(kwds.get(\u001b[33m\"\u001b[39m\u001b[33mnames\u001b[39m\u001b[33m\"\u001b[39m, \u001b[38;5;28;01mNone\u001b[39;00m))\n\u001b[32m    619\u001b[39m \u001b[38;5;66;03m# Create the parser.\u001b[39;00m\n\u001b[32m--> \u001b[39m\u001b[32m620\u001b[39m parser = \u001b[43mTextFileReader\u001b[49m\u001b[43m(\u001b[49m\u001b[43mfilepath_or_buffer\u001b[49m\u001b[43m,\u001b[49m\u001b[43m \u001b[49m\u001b[43m*\u001b[49m\u001b[43m*\u001b[49m\u001b[43mkwds\u001b[49m\u001b[43m)\u001b[49m\n\u001b[32m    622\u001b[39m \u001b[38;5;28;01mif\u001b[39;00m chunksize \u001b[38;5;129;01mor\u001b[39;00m iterator:\n\u001b[32m    623\u001b[39m     \u001b[38;5;28;01mreturn\u001b[39;00m parser\n",
      "\u001b[36mFile \u001b[39m\u001b[32m~/.conda/envs/tmm2/lib/python3.11/site-packages/pandas/io/parsers/readers.py:1620\u001b[39m, in \u001b[36mTextFileReader.__init__\u001b[39m\u001b[34m(self, f, engine, **kwds)\u001b[39m\n\u001b[32m   1617\u001b[39m     \u001b[38;5;28mself\u001b[39m.options[\u001b[33m\"\u001b[39m\u001b[33mhas_index_names\u001b[39m\u001b[33m\"\u001b[39m] = kwds[\u001b[33m\"\u001b[39m\u001b[33mhas_index_names\u001b[39m\u001b[33m\"\u001b[39m]\n\u001b[32m   1619\u001b[39m \u001b[38;5;28mself\u001b[39m.handles: IOHandles | \u001b[38;5;28;01mNone\u001b[39;00m = \u001b[38;5;28;01mNone\u001b[39;00m\n\u001b[32m-> \u001b[39m\u001b[32m1620\u001b[39m \u001b[38;5;28mself\u001b[39m._engine = \u001b[38;5;28;43mself\u001b[39;49m\u001b[43m.\u001b[49m\u001b[43m_make_engine\u001b[49m\u001b[43m(\u001b[49m\u001b[43mf\u001b[49m\u001b[43m,\u001b[49m\u001b[43m \u001b[49m\u001b[38;5;28;43mself\u001b[39;49m\u001b[43m.\u001b[49m\u001b[43mengine\u001b[49m\u001b[43m)\u001b[49m\n",
      "\u001b[36mFile \u001b[39m\u001b[32m~/.conda/envs/tmm2/lib/python3.11/site-packages/pandas/io/parsers/readers.py:1880\u001b[39m, in \u001b[36mTextFileReader._make_engine\u001b[39m\u001b[34m(self, f, engine)\u001b[39m\n\u001b[32m   1878\u001b[39m     \u001b[38;5;28;01mif\u001b[39;00m \u001b[33m\"\u001b[39m\u001b[33mb\u001b[39m\u001b[33m\"\u001b[39m \u001b[38;5;129;01mnot\u001b[39;00m \u001b[38;5;129;01min\u001b[39;00m mode:\n\u001b[32m   1879\u001b[39m         mode += \u001b[33m\"\u001b[39m\u001b[33mb\u001b[39m\u001b[33m\"\u001b[39m\n\u001b[32m-> \u001b[39m\u001b[32m1880\u001b[39m \u001b[38;5;28mself\u001b[39m.handles = \u001b[43mget_handle\u001b[49m\u001b[43m(\u001b[49m\n\u001b[32m   1881\u001b[39m \u001b[43m    \u001b[49m\u001b[43mf\u001b[49m\u001b[43m,\u001b[49m\n\u001b[32m   1882\u001b[39m \u001b[43m    \u001b[49m\u001b[43mmode\u001b[49m\u001b[43m,\u001b[49m\n\u001b[32m   1883\u001b[39m \u001b[43m    \u001b[49m\u001b[43mencoding\u001b[49m\u001b[43m=\u001b[49m\u001b[38;5;28;43mself\u001b[39;49m\u001b[43m.\u001b[49m\u001b[43moptions\u001b[49m\u001b[43m.\u001b[49m\u001b[43mget\u001b[49m\u001b[43m(\u001b[49m\u001b[33;43m\"\u001b[39;49m\u001b[33;43mencoding\u001b[39;49m\u001b[33;43m\"\u001b[39;49m\u001b[43m,\u001b[49m\u001b[43m \u001b[49m\u001b[38;5;28;43;01mNone\u001b[39;49;00m\u001b[43m)\u001b[49m\u001b[43m,\u001b[49m\n\u001b[32m   1884\u001b[39m \u001b[43m    \u001b[49m\u001b[43mcompression\u001b[49m\u001b[43m=\u001b[49m\u001b[38;5;28;43mself\u001b[39;49m\u001b[43m.\u001b[49m\u001b[43moptions\u001b[49m\u001b[43m.\u001b[49m\u001b[43mget\u001b[49m\u001b[43m(\u001b[49m\u001b[33;43m\"\u001b[39;49m\u001b[33;43mcompression\u001b[39;49m\u001b[33;43m\"\u001b[39;49m\u001b[43m,\u001b[49m\u001b[43m \u001b[49m\u001b[38;5;28;43;01mNone\u001b[39;49;00m\u001b[43m)\u001b[49m\u001b[43m,\u001b[49m\n\u001b[32m   1885\u001b[39m \u001b[43m    \u001b[49m\u001b[43mmemory_map\u001b[49m\u001b[43m=\u001b[49m\u001b[38;5;28;43mself\u001b[39;49m\u001b[43m.\u001b[49m\u001b[43moptions\u001b[49m\u001b[43m.\u001b[49m\u001b[43mget\u001b[49m\u001b[43m(\u001b[49m\u001b[33;43m\"\u001b[39;49m\u001b[33;43mmemory_map\u001b[39;49m\u001b[33;43m\"\u001b[39;49m\u001b[43m,\u001b[49m\u001b[43m \u001b[49m\u001b[38;5;28;43;01mFalse\u001b[39;49;00m\u001b[43m)\u001b[49m\u001b[43m,\u001b[49m\n\u001b[32m   1886\u001b[39m \u001b[43m    \u001b[49m\u001b[43mis_text\u001b[49m\u001b[43m=\u001b[49m\u001b[43mis_text\u001b[49m\u001b[43m,\u001b[49m\n\u001b[32m   1887\u001b[39m \u001b[43m    \u001b[49m\u001b[43merrors\u001b[49m\u001b[43m=\u001b[49m\u001b[38;5;28;43mself\u001b[39;49m\u001b[43m.\u001b[49m\u001b[43moptions\u001b[49m\u001b[43m.\u001b[49m\u001b[43mget\u001b[49m\u001b[43m(\u001b[49m\u001b[33;43m\"\u001b[39;49m\u001b[33;43mencoding_errors\u001b[39;49m\u001b[33;43m\"\u001b[39;49m\u001b[43m,\u001b[49m\u001b[43m \u001b[49m\u001b[33;43m\"\u001b[39;49m\u001b[33;43mstrict\u001b[39;49m\u001b[33;43m\"\u001b[39;49m\u001b[43m)\u001b[49m\u001b[43m,\u001b[49m\n\u001b[32m   1888\u001b[39m \u001b[43m    \u001b[49m\u001b[43mstorage_options\u001b[49m\u001b[43m=\u001b[49m\u001b[38;5;28;43mself\u001b[39;49m\u001b[43m.\u001b[49m\u001b[43moptions\u001b[49m\u001b[43m.\u001b[49m\u001b[43mget\u001b[49m\u001b[43m(\u001b[49m\u001b[33;43m\"\u001b[39;49m\u001b[33;43mstorage_options\u001b[39;49m\u001b[33;43m\"\u001b[39;49m\u001b[43m,\u001b[49m\u001b[43m \u001b[49m\u001b[38;5;28;43;01mNone\u001b[39;49;00m\u001b[43m)\u001b[49m\u001b[43m,\u001b[49m\n\u001b[32m   1889\u001b[39m \u001b[43m\u001b[49m\u001b[43m)\u001b[49m\n\u001b[32m   1890\u001b[39m \u001b[38;5;28;01massert\u001b[39;00m \u001b[38;5;28mself\u001b[39m.handles \u001b[38;5;129;01mis\u001b[39;00m \u001b[38;5;129;01mnot\u001b[39;00m \u001b[38;5;28;01mNone\u001b[39;00m\n\u001b[32m   1891\u001b[39m f = \u001b[38;5;28mself\u001b[39m.handles.handle\n",
      "\u001b[36mFile \u001b[39m\u001b[32m~/.conda/envs/tmm2/lib/python3.11/site-packages/pandas/io/common.py:873\u001b[39m, in \u001b[36mget_handle\u001b[39m\u001b[34m(path_or_buf, mode, encoding, compression, memory_map, is_text, errors, storage_options)\u001b[39m\n\u001b[32m    868\u001b[39m \u001b[38;5;28;01melif\u001b[39;00m \u001b[38;5;28misinstance\u001b[39m(handle, \u001b[38;5;28mstr\u001b[39m):\n\u001b[32m    869\u001b[39m     \u001b[38;5;66;03m# Check whether the filename is to be opened in binary mode.\u001b[39;00m\n\u001b[32m    870\u001b[39m     \u001b[38;5;66;03m# Binary mode does not support 'encoding' and 'newline'.\u001b[39;00m\n\u001b[32m    871\u001b[39m     \u001b[38;5;28;01mif\u001b[39;00m ioargs.encoding \u001b[38;5;129;01mand\u001b[39;00m \u001b[33m\"\u001b[39m\u001b[33mb\u001b[39m\u001b[33m\"\u001b[39m \u001b[38;5;129;01mnot\u001b[39;00m \u001b[38;5;129;01min\u001b[39;00m ioargs.mode:\n\u001b[32m    872\u001b[39m         \u001b[38;5;66;03m# Encoding\u001b[39;00m\n\u001b[32m--> \u001b[39m\u001b[32m873\u001b[39m         handle = \u001b[38;5;28mopen\u001b[39m(\n\u001b[32m    874\u001b[39m             handle,\n\u001b[32m    875\u001b[39m             ioargs.mode,\n\u001b[32m    876\u001b[39m             encoding=ioargs.encoding,\n\u001b[32m    877\u001b[39m             errors=errors,\n\u001b[32m    878\u001b[39m             newline=\u001b[33m\"\u001b[39m\u001b[33m\"\u001b[39m,\n\u001b[32m    879\u001b[39m         )\n\u001b[32m    880\u001b[39m     \u001b[38;5;28;01melse\u001b[39;00m:\n\u001b[32m    881\u001b[39m         \u001b[38;5;66;03m# Binary mode\u001b[39;00m\n\u001b[32m    882\u001b[39m         handle = \u001b[38;5;28mopen\u001b[39m(handle, ioargs.mode)\n",
      "\u001b[31mFileNotFoundError\u001b[39m: [Errno 2] No such file or directory: '/net/talisker/home/benos/mae117/Documents/careers/opalia/the-milk-man/profiles/ars-ucd_exp_scprinter_supp/macs2/all_peaks.narrowPeak'"
     ]
    }
   ],
   "source": [
    "# Call peaks, this set of peaks are recommended to train seq2PRINT model\n",
    "scp.pp.call_peaks(\n",
    "    printer=printer_exp,\n",
    "    frag_file=exp_frags,\n",
    "    cell_grouping=[None], # here we call peaks on the cells that are included in the final analyses\n",
    "    group_names=['all'],\n",
    "    preset='seq2PRINT',\n",
    "    overwrite=False\n",
    ")\n",
    "\n",
    "# Fetched the cleaned peaks, save, it will be used in the next step\n",
    "cleaned_peaks = pd.DataFrame(printer_exp.uns[\"peak_calling\"]['all_cleaned'][:])\n",
    "cleaned_peaks.to_csv(f'{work_dir}/peaks/seq2print_cleaned_narrowPeak.bed',\n",
    "                     sep='\\t', header=False, index=False)"
   ]
  },
  {
   "cell_type": "code",
   "execution_count": 24,
   "id": "0b0f4671",
   "metadata": {},
   "outputs": [
    {
     "name": "stdout",
     "output_type": "stream",
     "text": [
      "Traceback (most recent call last):\n",
      "  File \"/net/talisker/home/benos/mae117/.conda/envs/tmm2/bin/macs2\", line 653, in <module>\n",
      "    main()\n",
      "  File \"/net/talisker/home/benos/mae117/.conda/envs/tmm2/bin/macs2\", line 49, in main\n",
      "    from MACS2.callpeak_cmd import run\n",
      "  File \"/net/talisker/home/benos/mae117/.conda/envs/tmm2/lib/python3.11/site-packages/MACS2/callpeak_cmd.py\", line 23, in <module>\n",
      "    from MACS2.OptValidator import opt_validate\n",
      "  File \"/net/talisker/home/benos/mae117/.conda/envs/tmm2/lib/python3.11/site-packages/MACS2/OptValidator.py\", line 20, in <module>\n",
      "    from MACS2.IO.Parser import BEDParser, ELANDResultParser, ELANDMultiParser, \\\n",
      "  File \"MACS2/IO/Parser.pyx\", line 25, in init MACS2.IO.Parser\n",
      "  File \"MACS2/IO/FixWidthTrack.pyx\", line 27, in init MACS2.IO.FixWidthTrack\n",
      "  File \"MACS2/Pileup.pyx\", line 19, in init MACS2.Pileup\n",
      "  File \"MACS2/IO/BedGraph.pyx\", line 26, in init MACS2.IO.BedGraph\n",
      "ImportError: /net/talisker/home/benos/mae117/.conda/envs/tmm2/lib/python3.11/site-packages/MACS2/IO/ScoreTrack.cpython-311-x86_64-linux-gnu.so: undefined symbol: __log_finite\n"
     ]
    }
   ],
   "source": [
    "!macs2 callpeak --nomodel -t /net/talisker/home/benos/mae117/Documents/careers/opalia/the-milk-man/data/experiments/peak/fragments/SRR33155817.fragments.tsv.gz /net/talisker/home/benos/mae117/Documents/careers/opalia/the-milk-man/data/experiments/peak/fragments/SRR33155819.fragments.tsv.gz /net/talisker/home/benos/mae117/Documents/careers/opalia/the-milk-man/data/experiments/peak/fragments/SRR33155821.fragments.tsv.gz /net/talisker/home/benos/mae117/Documents/careers/opalia/the-milk-man/data/experiments/peak/fragments/SRR33155823.fragments.tsv.gz /net/talisker/home/benos/mae117/Documents/careers/opalia/the-milk-man/data/experiments/late/fragments/SRR33155816.fragments.tsv.gz /net/talisker/home/benos/mae117/Documents/careers/opalia/the-milk-man/data/experiments/late/fragments/SRR33155818.fragments.tsv.gz /net/talisker/home/benos/mae117/Documents/careers/opalia/the-milk-man/data/experiments/late/fragments/SRR33155820.fragments.tsv.gz /net/talisker/home/benos/mae117/Documents/careers/opalia/the-milk-man/data/experiments/late/fragments/SRR33155822.fragments.tsv.gz --outdir /net/talisker/home/benos/mae117/Documents/careers/opalia/the-milk-man/profiles/ars-ucd_exp_scprinter_supp/macs2 -n all -f BEDPE --nolambda --keep-dup all --call-summits --nomodel -B --SPMR --shift 75 --extsize 150 -p 0.01"
   ]
  },
  {
   "cell_type": "code",
   "execution_count": null,
   "id": "73f05861",
   "metadata": {},
   "outputs": [
    {
     "name": "stdout",
     "output_type": "stream",
     "text": [
      "running macs2 with macs2 callpeak --nomodel -t /net/talisker/home/benos/mae117/Documents/careers/opalia/the-milk-man/data/controls/fragments/SRR34930215.fragments.tsv.gz /net/talisker/home/benos/mae117/Documents/careers/opalia/the-milk-man/data/controls/fragments/SRR34930216.fragments.tsv.gz /net/talisker/home/benos/mae117/Documents/careers/opalia/the-milk-man/data/controls/fragments/SRR34930217.fragments.tsv.gz /net/talisker/home/benos/mae117/Documents/careers/opalia/the-milk-man/data/controls/fragments/SRR34930218.fragments.tsv.gz /net/talisker/home/benos/mae117/Documents/careers/opalia/the-milk-man/data/controls/fragments/SRR34930219.fragments.tsv.gz /net/talisker/home/benos/mae117/Documents/careers/opalia/the-milk-man/data/controls/fragments/SRR34930220.fragments.tsv.gz /net/talisker/home/benos/mae117/Documents/careers/opalia/the-milk-man/data/controls/fragments/SRR34930221.fragments.tsv.gz /net/talisker/home/benos/mae117/Documents/careers/opalia/the-milk-man/data/controls/fragments/SRR34930222.fragments.tsv.gz --outdir /net/talisker/home/benos/mae117/Documents/careers/opalia/the-milk-man/profiles/ars-ucd_ctrl_scprinter_supp/macs2 -n chromvar_all -f BEDPE --nolambda --keep-dup all --call-summits --nomodel -B --SPMR --shift 75 --extsize 150 -q 0.01\n"
     ]
    },
    {
     "name": "stderr",
     "output_type": "stream",
     "text": [
      "Traceback (most recent call last):\n",
      "  File \"/net/talisker/home/benos/mae117/.conda/envs/tmm2/bin/macs2\", line 653, in <module>\n",
      "    main()\n",
      "  File \"/net/talisker/home/benos/mae117/.conda/envs/tmm2/bin/macs2\", line 49, in main\n",
      "    from MACS2.callpeak_cmd import run\n",
      "  File \"/net/talisker/home/benos/mae117/.conda/envs/tmm2/lib/python3.11/site-packages/MACS2/callpeak_cmd.py\", line 23, in <module>\n",
      "    from MACS2.OptValidator import opt_validate\n",
      "  File \"/net/talisker/home/benos/mae117/.conda/envs/tmm2/lib/python3.11/site-packages/MACS2/OptValidator.py\", line 20, in <module>\n",
      "    from MACS2.IO.Parser import BEDParser, ELANDResultParser, ELANDMultiParser, \\\n",
      "  File \"MACS2/IO/Parser.pyx\", line 25, in init MACS2.IO.Parser\n",
      "  File \"MACS2/IO/FixWidthTrack.pyx\", line 27, in init MACS2.IO.FixWidthTrack\n",
      "  File \"MACS2/Pileup.pyx\", line 19, in init MACS2.Pileup\n",
      "  File \"MACS2/IO/BedGraph.pyx\", line 26, in init MACS2.IO.BedGraph\n",
      "ImportError: /net/talisker/home/benos/mae117/.conda/envs/tmm2/lib/python3.11/site-packages/MACS2/IO/ScoreTrack.cpython-311-x86_64-linux-gnu.so: undefined symbol: __log_finite\n"
     ]
    },
    {
     "ename": "FileNotFoundError",
     "evalue": "[Errno 2] No such file or directory: '/net/talisker/home/benos/mae117/Documents/careers/opalia/the-milk-man/profiles/ars-ucd_ctrl_scprinter_supp/macs2/chromvar_all_peaks.narrowPeak'",
     "output_type": "error",
     "traceback": [
      "\u001b[31m---------------------------------------------------------------------------\u001b[39m",
      "\u001b[31mFileNotFoundError\u001b[39m                         Traceback (most recent call last)",
      "\u001b[36mCell\u001b[39m\u001b[36m \u001b[39m\u001b[32mIn[14]\u001b[39m\u001b[32m, line 2\u001b[39m\n\u001b[32m      1\u001b[39m \u001b[38;5;66;03m# Call peaks using chromvar preset, this set of peak are recommended to be use as cell x peak for scATAC-seq data, or analysis\u001b[39;00m\n\u001b[32m----> \u001b[39m\u001b[32m2\u001b[39m \u001b[43mscp\u001b[49m\u001b[43m.\u001b[49m\u001b[43mpp\u001b[49m\u001b[43m.\u001b[49m\u001b[43mcall_peaks\u001b[49m\u001b[43m(\u001b[49m\n\u001b[32m      3\u001b[39m \u001b[43m    \u001b[49m\u001b[43mprinter\u001b[49m\u001b[43m=\u001b[49m\u001b[43mprinter_ctrl\u001b[49m\u001b[43m,\u001b[49m\n\u001b[32m      4\u001b[39m \u001b[43m    \u001b[49m\u001b[43mfrag_file\u001b[49m\u001b[43m=\u001b[49m\u001b[43mcontrols_files_frags\u001b[49m\u001b[43m,\u001b[49m\n\u001b[32m      5\u001b[39m \u001b[43m    \u001b[49m\u001b[43mcell_grouping\u001b[49m\u001b[43m=\u001b[49m\u001b[43m[\u001b[49m\u001b[38;5;28;43;01mNone\u001b[39;49;00m\u001b[43m]\u001b[49m\u001b[43m,\u001b[49m\u001b[43m \u001b[49m\u001b[38;5;66;43;03m# here we call peaks on the cells that are included in the final analyses\u001b[39;49;00m\n\u001b[32m      6\u001b[39m \u001b[43m    \u001b[49m\u001b[43mgroup_names\u001b[49m\u001b[43m=\u001b[49m\u001b[43m[\u001b[49m\u001b[33;43m'\u001b[39;49m\u001b[33;43mchromvar_all\u001b[39;49m\u001b[33;43m'\u001b[39;49m\u001b[43m]\u001b[49m\u001b[43m,\u001b[49m\n\u001b[32m      7\u001b[39m \u001b[43m    \u001b[49m\u001b[43mpreset\u001b[49m\u001b[43m=\u001b[49m\u001b[33;43m'\u001b[39;49m\u001b[33;43mchromvar\u001b[39;49m\u001b[33;43m'\u001b[39;49m\u001b[43m,\u001b[49m\n\u001b[32m      8\u001b[39m \u001b[43m    \u001b[49m\u001b[43moverwrite\u001b[49m\u001b[43m=\u001b[49m\u001b[38;5;28;43;01mFalse\u001b[39;49;00m\n\u001b[32m      9\u001b[39m \u001b[43m)\u001b[49m\n\u001b[32m     11\u001b[39m \u001b[38;5;66;03m# Fetched the cleaned peaks, save, it will be used in the next step\u001b[39;00m\n\u001b[32m     12\u001b[39m cleaned_peaks = pd.DataFrame(printer_ctrl.uns[\u001b[33m\"\u001b[39m\u001b[33mpeak_calling\u001b[39m\u001b[33m\"\u001b[39m][\u001b[33m'\u001b[39m\u001b[33mchromvar_all_cleaned\u001b[39m\u001b[33m'\u001b[39m][:])\n",
      "\u001b[36mFile \u001b[39m\u001b[32m~/.conda/envs/tmm2/lib/python3.11/site-packages/scprinter/preprocessing.py:842\u001b[39m, in \u001b[36mcall_peaks\u001b[39m\u001b[34m(printer, frag_file, cell_grouping, group_names, iterative_peak_merging, merge_across_groups, peak_width, clean_temp, preset, n_jobs, overwrite, sample_names, **kwargs)\u001b[39m\n\u001b[32m    840\u001b[39m \u001b[38;5;28;01mfor\u001b[39;00m name \u001b[38;5;129;01min\u001b[39;00m group_names:\n\u001b[32m    841\u001b[39m     peak = os.path.join(printer.file_path, \u001b[33m\"\u001b[39m\u001b[33mmacs2\u001b[39m\u001b[33m\"\u001b[39m, \u001b[33mf\u001b[39m\u001b[33m\"\u001b[39m\u001b[38;5;132;01m{\u001b[39;00mname\u001b[38;5;132;01m}\u001b[39;00m\u001b[33m_peaks.narrowPeak\u001b[39m\u001b[33m\"\u001b[39m)\n\u001b[32m--> \u001b[39m\u001b[32m842\u001b[39m     peak = resize_bed_df(\u001b[43mpd\u001b[49m\u001b[43m.\u001b[49m\u001b[43mread_csv\u001b[49m\u001b[43m(\u001b[49m\u001b[43mpeak\u001b[49m\u001b[43m,\u001b[49m\u001b[43m \u001b[49m\u001b[43msep\u001b[49m\u001b[43m=\u001b[49m\u001b[33;43m\"\u001b[39;49m\u001b[38;5;130;43;01m\\t\u001b[39;49;00m\u001b[33;43m\"\u001b[39;49m\u001b[43m,\u001b[49m\u001b[43m \u001b[49m\u001b[43mheader\u001b[49m\u001b[43m=\u001b[49m\u001b[38;5;28;43;01mNone\u001b[39;49;00m\u001b[43m,\u001b[49m\u001b[43m \u001b[49m\u001b[43mcomment\u001b[49m\u001b[43m=\u001b[49m\u001b[33;43m\"\u001b[39;49m\u001b[33;43m#\u001b[39;49m\u001b[33;43m\"\u001b[39;49m\u001b[43m)\u001b[49m, peak_width)\n\u001b[32m    843\u001b[39m     peak_calling[name] = peak\n\u001b[32m    844\u001b[39m summary = \u001b[38;5;28;01mNone\u001b[39;00m\n",
      "\u001b[36mFile \u001b[39m\u001b[32m~/.conda/envs/tmm2/lib/python3.11/site-packages/pandas/io/parsers/readers.py:1026\u001b[39m, in \u001b[36mread_csv\u001b[39m\u001b[34m(filepath_or_buffer, sep, delimiter, header, names, index_col, usecols, dtype, engine, converters, true_values, false_values, skipinitialspace, skiprows, skipfooter, nrows, na_values, keep_default_na, na_filter, verbose, skip_blank_lines, parse_dates, infer_datetime_format, keep_date_col, date_parser, date_format, dayfirst, cache_dates, iterator, chunksize, compression, thousands, decimal, lineterminator, quotechar, quoting, doublequote, escapechar, comment, encoding, encoding_errors, dialect, on_bad_lines, delim_whitespace, low_memory, memory_map, float_precision, storage_options, dtype_backend)\u001b[39m\n\u001b[32m   1013\u001b[39m kwds_defaults = _refine_defaults_read(\n\u001b[32m   1014\u001b[39m     dialect,\n\u001b[32m   1015\u001b[39m     delimiter,\n\u001b[32m   (...)\u001b[39m\u001b[32m   1022\u001b[39m     dtype_backend=dtype_backend,\n\u001b[32m   1023\u001b[39m )\n\u001b[32m   1024\u001b[39m kwds.update(kwds_defaults)\n\u001b[32m-> \u001b[39m\u001b[32m1026\u001b[39m \u001b[38;5;28;01mreturn\u001b[39;00m \u001b[43m_read\u001b[49m\u001b[43m(\u001b[49m\u001b[43mfilepath_or_buffer\u001b[49m\u001b[43m,\u001b[49m\u001b[43m \u001b[49m\u001b[43mkwds\u001b[49m\u001b[43m)\u001b[49m\n",
      "\u001b[36mFile \u001b[39m\u001b[32m~/.conda/envs/tmm2/lib/python3.11/site-packages/pandas/io/parsers/readers.py:620\u001b[39m, in \u001b[36m_read\u001b[39m\u001b[34m(filepath_or_buffer, kwds)\u001b[39m\n\u001b[32m    617\u001b[39m _validate_names(kwds.get(\u001b[33m\"\u001b[39m\u001b[33mnames\u001b[39m\u001b[33m\"\u001b[39m, \u001b[38;5;28;01mNone\u001b[39;00m))\n\u001b[32m    619\u001b[39m \u001b[38;5;66;03m# Create the parser.\u001b[39;00m\n\u001b[32m--> \u001b[39m\u001b[32m620\u001b[39m parser = \u001b[43mTextFileReader\u001b[49m\u001b[43m(\u001b[49m\u001b[43mfilepath_or_buffer\u001b[49m\u001b[43m,\u001b[49m\u001b[43m \u001b[49m\u001b[43m*\u001b[49m\u001b[43m*\u001b[49m\u001b[43mkwds\u001b[49m\u001b[43m)\u001b[49m\n\u001b[32m    622\u001b[39m \u001b[38;5;28;01mif\u001b[39;00m chunksize \u001b[38;5;129;01mor\u001b[39;00m iterator:\n\u001b[32m    623\u001b[39m     \u001b[38;5;28;01mreturn\u001b[39;00m parser\n",
      "\u001b[36mFile \u001b[39m\u001b[32m~/.conda/envs/tmm2/lib/python3.11/site-packages/pandas/io/parsers/readers.py:1620\u001b[39m, in \u001b[36mTextFileReader.__init__\u001b[39m\u001b[34m(self, f, engine, **kwds)\u001b[39m\n\u001b[32m   1617\u001b[39m     \u001b[38;5;28mself\u001b[39m.options[\u001b[33m\"\u001b[39m\u001b[33mhas_index_names\u001b[39m\u001b[33m\"\u001b[39m] = kwds[\u001b[33m\"\u001b[39m\u001b[33mhas_index_names\u001b[39m\u001b[33m\"\u001b[39m]\n\u001b[32m   1619\u001b[39m \u001b[38;5;28mself\u001b[39m.handles: IOHandles | \u001b[38;5;28;01mNone\u001b[39;00m = \u001b[38;5;28;01mNone\u001b[39;00m\n\u001b[32m-> \u001b[39m\u001b[32m1620\u001b[39m \u001b[38;5;28mself\u001b[39m._engine = \u001b[38;5;28;43mself\u001b[39;49m\u001b[43m.\u001b[49m\u001b[43m_make_engine\u001b[49m\u001b[43m(\u001b[49m\u001b[43mf\u001b[49m\u001b[43m,\u001b[49m\u001b[43m \u001b[49m\u001b[38;5;28;43mself\u001b[39;49m\u001b[43m.\u001b[49m\u001b[43mengine\u001b[49m\u001b[43m)\u001b[49m\n",
      "\u001b[36mFile \u001b[39m\u001b[32m~/.conda/envs/tmm2/lib/python3.11/site-packages/pandas/io/parsers/readers.py:1880\u001b[39m, in \u001b[36mTextFileReader._make_engine\u001b[39m\u001b[34m(self, f, engine)\u001b[39m\n\u001b[32m   1878\u001b[39m     \u001b[38;5;28;01mif\u001b[39;00m \u001b[33m\"\u001b[39m\u001b[33mb\u001b[39m\u001b[33m\"\u001b[39m \u001b[38;5;129;01mnot\u001b[39;00m \u001b[38;5;129;01min\u001b[39;00m mode:\n\u001b[32m   1879\u001b[39m         mode += \u001b[33m\"\u001b[39m\u001b[33mb\u001b[39m\u001b[33m\"\u001b[39m\n\u001b[32m-> \u001b[39m\u001b[32m1880\u001b[39m \u001b[38;5;28mself\u001b[39m.handles = \u001b[43mget_handle\u001b[49m\u001b[43m(\u001b[49m\n\u001b[32m   1881\u001b[39m \u001b[43m    \u001b[49m\u001b[43mf\u001b[49m\u001b[43m,\u001b[49m\n\u001b[32m   1882\u001b[39m \u001b[43m    \u001b[49m\u001b[43mmode\u001b[49m\u001b[43m,\u001b[49m\n\u001b[32m   1883\u001b[39m \u001b[43m    \u001b[49m\u001b[43mencoding\u001b[49m\u001b[43m=\u001b[49m\u001b[38;5;28;43mself\u001b[39;49m\u001b[43m.\u001b[49m\u001b[43moptions\u001b[49m\u001b[43m.\u001b[49m\u001b[43mget\u001b[49m\u001b[43m(\u001b[49m\u001b[33;43m\"\u001b[39;49m\u001b[33;43mencoding\u001b[39;49m\u001b[33;43m\"\u001b[39;49m\u001b[43m,\u001b[49m\u001b[43m \u001b[49m\u001b[38;5;28;43;01mNone\u001b[39;49;00m\u001b[43m)\u001b[49m\u001b[43m,\u001b[49m\n\u001b[32m   1884\u001b[39m \u001b[43m    \u001b[49m\u001b[43mcompression\u001b[49m\u001b[43m=\u001b[49m\u001b[38;5;28;43mself\u001b[39;49m\u001b[43m.\u001b[49m\u001b[43moptions\u001b[49m\u001b[43m.\u001b[49m\u001b[43mget\u001b[49m\u001b[43m(\u001b[49m\u001b[33;43m\"\u001b[39;49m\u001b[33;43mcompression\u001b[39;49m\u001b[33;43m\"\u001b[39;49m\u001b[43m,\u001b[49m\u001b[43m \u001b[49m\u001b[38;5;28;43;01mNone\u001b[39;49;00m\u001b[43m)\u001b[49m\u001b[43m,\u001b[49m\n\u001b[32m   1885\u001b[39m \u001b[43m    \u001b[49m\u001b[43mmemory_map\u001b[49m\u001b[43m=\u001b[49m\u001b[38;5;28;43mself\u001b[39;49m\u001b[43m.\u001b[49m\u001b[43moptions\u001b[49m\u001b[43m.\u001b[49m\u001b[43mget\u001b[49m\u001b[43m(\u001b[49m\u001b[33;43m\"\u001b[39;49m\u001b[33;43mmemory_map\u001b[39;49m\u001b[33;43m\"\u001b[39;49m\u001b[43m,\u001b[49m\u001b[43m \u001b[49m\u001b[38;5;28;43;01mFalse\u001b[39;49;00m\u001b[43m)\u001b[49m\u001b[43m,\u001b[49m\n\u001b[32m   1886\u001b[39m \u001b[43m    \u001b[49m\u001b[43mis_text\u001b[49m\u001b[43m=\u001b[49m\u001b[43mis_text\u001b[49m\u001b[43m,\u001b[49m\n\u001b[32m   1887\u001b[39m \u001b[43m    \u001b[49m\u001b[43merrors\u001b[49m\u001b[43m=\u001b[49m\u001b[38;5;28;43mself\u001b[39;49m\u001b[43m.\u001b[49m\u001b[43moptions\u001b[49m\u001b[43m.\u001b[49m\u001b[43mget\u001b[49m\u001b[43m(\u001b[49m\u001b[33;43m\"\u001b[39;49m\u001b[33;43mencoding_errors\u001b[39;49m\u001b[33;43m\"\u001b[39;49m\u001b[43m,\u001b[49m\u001b[43m \u001b[49m\u001b[33;43m\"\u001b[39;49m\u001b[33;43mstrict\u001b[39;49m\u001b[33;43m\"\u001b[39;49m\u001b[43m)\u001b[49m\u001b[43m,\u001b[49m\n\u001b[32m   1888\u001b[39m \u001b[43m    \u001b[49m\u001b[43mstorage_options\u001b[49m\u001b[43m=\u001b[49m\u001b[38;5;28;43mself\u001b[39;49m\u001b[43m.\u001b[49m\u001b[43moptions\u001b[49m\u001b[43m.\u001b[49m\u001b[43mget\u001b[49m\u001b[43m(\u001b[49m\u001b[33;43m\"\u001b[39;49m\u001b[33;43mstorage_options\u001b[39;49m\u001b[33;43m\"\u001b[39;49m\u001b[43m,\u001b[49m\u001b[43m \u001b[49m\u001b[38;5;28;43;01mNone\u001b[39;49;00m\u001b[43m)\u001b[49m\u001b[43m,\u001b[49m\n\u001b[32m   1889\u001b[39m \u001b[43m\u001b[49m\u001b[43m)\u001b[49m\n\u001b[32m   1890\u001b[39m \u001b[38;5;28;01massert\u001b[39;00m \u001b[38;5;28mself\u001b[39m.handles \u001b[38;5;129;01mis\u001b[39;00m \u001b[38;5;129;01mnot\u001b[39;00m \u001b[38;5;28;01mNone\u001b[39;00m\n\u001b[32m   1891\u001b[39m f = \u001b[38;5;28mself\u001b[39m.handles.handle\n",
      "\u001b[36mFile \u001b[39m\u001b[32m~/.conda/envs/tmm2/lib/python3.11/site-packages/pandas/io/common.py:873\u001b[39m, in \u001b[36mget_handle\u001b[39m\u001b[34m(path_or_buf, mode, encoding, compression, memory_map, is_text, errors, storage_options)\u001b[39m\n\u001b[32m    868\u001b[39m \u001b[38;5;28;01melif\u001b[39;00m \u001b[38;5;28misinstance\u001b[39m(handle, \u001b[38;5;28mstr\u001b[39m):\n\u001b[32m    869\u001b[39m     \u001b[38;5;66;03m# Check whether the filename is to be opened in binary mode.\u001b[39;00m\n\u001b[32m    870\u001b[39m     \u001b[38;5;66;03m# Binary mode does not support 'encoding' and 'newline'.\u001b[39;00m\n\u001b[32m    871\u001b[39m     \u001b[38;5;28;01mif\u001b[39;00m ioargs.encoding \u001b[38;5;129;01mand\u001b[39;00m \u001b[33m\"\u001b[39m\u001b[33mb\u001b[39m\u001b[33m\"\u001b[39m \u001b[38;5;129;01mnot\u001b[39;00m \u001b[38;5;129;01min\u001b[39;00m ioargs.mode:\n\u001b[32m    872\u001b[39m         \u001b[38;5;66;03m# Encoding\u001b[39;00m\n\u001b[32m--> \u001b[39m\u001b[32m873\u001b[39m         handle = \u001b[38;5;28;43mopen\u001b[39;49m\u001b[43m(\u001b[49m\n\u001b[32m    874\u001b[39m \u001b[43m            \u001b[49m\u001b[43mhandle\u001b[49m\u001b[43m,\u001b[49m\n\u001b[32m    875\u001b[39m \u001b[43m            \u001b[49m\u001b[43mioargs\u001b[49m\u001b[43m.\u001b[49m\u001b[43mmode\u001b[49m\u001b[43m,\u001b[49m\n\u001b[32m    876\u001b[39m \u001b[43m            \u001b[49m\u001b[43mencoding\u001b[49m\u001b[43m=\u001b[49m\u001b[43mioargs\u001b[49m\u001b[43m.\u001b[49m\u001b[43mencoding\u001b[49m\u001b[43m,\u001b[49m\n\u001b[32m    877\u001b[39m \u001b[43m            \u001b[49m\u001b[43merrors\u001b[49m\u001b[43m=\u001b[49m\u001b[43merrors\u001b[49m\u001b[43m,\u001b[49m\n\u001b[32m    878\u001b[39m \u001b[43m            \u001b[49m\u001b[43mnewline\u001b[49m\u001b[43m=\u001b[49m\u001b[33;43m\"\u001b[39;49m\u001b[33;43m\"\u001b[39;49m\u001b[43m,\u001b[49m\n\u001b[32m    879\u001b[39m \u001b[43m        \u001b[49m\u001b[43m)\u001b[49m\n\u001b[32m    880\u001b[39m     \u001b[38;5;28;01melse\u001b[39;00m:\n\u001b[32m    881\u001b[39m         \u001b[38;5;66;03m# Binary mode\u001b[39;00m\n\u001b[32m    882\u001b[39m         handle = \u001b[38;5;28mopen\u001b[39m(handle, ioargs.mode)\n",
      "\u001b[31mFileNotFoundError\u001b[39m: [Errno 2] No such file or directory: '/net/talisker/home/benos/mae117/Documents/careers/opalia/the-milk-man/profiles/ars-ucd_ctrl_scprinter_supp/macs2/chromvar_all_peaks.narrowPeak'"
     ]
    }
   ],
   "source": [
    "# Call peaks using chromvar preset, this set of peak are recommended to be use as cell x peak for scATAC-seq data, or analysis\n",
    "scp.pp.call_peaks(\n",
    "    printer=printer_ctrl,\n",
    "    frag_file=controls_files_frags,\n",
    "    cell_grouping=[None], # here we call peaks on the cells that are included in the final analyses\n",
    "    group_names=['chromvar_all'],\n",
    "    preset='chromvar',\n",
    "    overwrite=False\n",
    ")\n",
    "\n",
    "# Fetched the cleaned peaks, save, it will be used in the next step\n",
    "cleaned_peaks = pd.DataFrame(printer_ctrl.uns[\"peak_calling\"]['chromvar_all_cleaned'][:])\n",
    "cleaned_peaks.to_csv(f'{work_dir}/peaks/chromvar_regions.bed', sep='\\t', header=False, index=False)"
   ]
  },
  {
   "cell_type": "code",
   "execution_count": null,
   "id": "00cf4dc7",
   "metadata": {},
   "outputs": [],
   "source": [
    "!macs2 callpeak --nomodel -t /net/talisker/home/benos/mae117/Documents/careers/opalia/the-milk-man/data/controls/fragments/SRR34930215.fragments.tsv.gz /net/talisker/home/benos/mae117/Documents/careers/opalia/the-milk-man/data/controls/fragments/SRR34930216.fragments.tsv.gz /net/talisker/home/benos/mae117/Documents/careers/opalia/the-milk-man/data/controls/fragments/SRR34930217.fragments.tsv.gz /net/talisker/home/benos/mae117/Documents/careers/opalia/the-milk-man/data/controls/fragments/SRR34930218.fragments.tsv.gz /net/talisker/home/benos/mae117/Documents/careers/opalia/the-milk-man/data/controls/fragments/SRR34930219.fragments.tsv.gz /net/talisker/home/benos/mae117/Documents/careers/opalia/the-milk-man/data/controls/fragments/SRR34930220.fragments.tsv.gz /net/talisker/home/benos/mae117/Documents/careers/opalia/the-milk-man/data/controls/fragments/SRR34930221.fragments.tsv.gz /net/talisker/home/benos/mae117/Documents/careers/opalia/the-milk-man/data/controls/fragments/SRR34930222.fragments.tsv.gz --outdir /net/talisker/home/benos/mae117/Documents/careers/opalia/the-milk-man/profiles/ars-ucd_ctrl_scprinter_supp/macs2 -n chromvar_all -f BEDPE --nolambda --keep-dup all --call-summits --nomodel -B --SPMR --shift 75 --extsize 150 -q 0.01"
   ]
  },
  {
   "cell_type": "markdown",
   "id": "181b2336",
   "metadata": {},
   "source": [
    "* compare the two sets of peaks with the different presets"
   ]
  },
  {
   "cell_type": "code",
   "execution_count": null,
   "id": "1eb4ede8",
   "metadata": {},
   "outputs": [],
   "source": [
    "print (pd.DataFrame(printer.uns[\"peak_calling\"]['all_cleaned'][:]))"
   ]
  },
  {
   "cell_type": "code",
   "execution_count": null,
   "id": "6a51b83c",
   "metadata": {},
   "outputs": [],
   "source": [
    "print (pd.DataFrame(printer.uns[\"peak_calling\"]['chromvar_all_cleaned'][:]))"
   ]
  },
  {
   "cell_type": "markdown",
   "id": "2131c1fa",
   "metadata": {},
   "source": [
    "### Compare profiles"
   ]
  },
  {
   "cell_type": "markdown",
   "id": "268850d3",
   "metadata": {},
   "source": []
  }
 ],
 "metadata": {
  "kernelspec": {
   "display_name": "tmm2",
   "language": "python",
   "name": "python3"
  },
  "language_info": {
   "codemirror_mode": {
    "name": "ipython",
    "version": 3
   },
   "file_extension": ".py",
   "mimetype": "text/x-python",
   "name": "python",
   "nbconvert_exporter": "python",
   "pygments_lexer": "ipython3",
   "version": "3.11.14"
  }
 },
 "nbformat": 4,
 "nbformat_minor": 5
}
